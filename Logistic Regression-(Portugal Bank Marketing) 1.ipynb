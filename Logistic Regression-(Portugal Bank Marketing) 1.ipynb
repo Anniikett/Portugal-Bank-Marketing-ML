{
 "cells": [
  {
   "cell_type": "markdown",
   "id": "cd3b5c81",
   "metadata": {},
   "source": [
    "# Abstract :\n",
    "\n",
    "This is dataset that describe Portugal bank marketing campaigns results. Conducted campaigns were based mostly on direct phone calls, offering bank's clients to place a term deposit. If after all marking afforts client had agreed to place deposit - target variable marked 'yes', otherwise 'no'."
   ]
  },
  {
   "cell_type": "markdown",
   "id": "76567cbe",
   "metadata": {},
   "source": [
    "## Task:\n",
    "A.predicting the future results of marketing companies based on available statistics and, accordingly, formulating recommendations for such companies in the future.\n",
    "B.building a profile of a consumer of banking services (deposits"
   ]
  },
  {
   "cell_type": "markdown",
   "id": "dee83cfc",
   "metadata": {},
   "source": [
    "### Data Definition:\n",
    "\n",
    "Input variables:\n",
    "\n",
    "1) **age**: (numeric)\n",
    "\n",
    "\n",
    "2) **job**: type of job (categorical: 'admin.','blue-collar','entrepreneur','housemaid','management','retired','self-employed','services','student','technician','unemployed','unknown')\n",
    "\n",
    "\n",
    "3) **marital**:  marital status (categorical: 'divorced','married','single','unknown'; note: 'divorced' means divorced or widowed)\n",
    "\n",
    "4) **education**: education of individual (categorical: \"basic.4y\",\"basic.6y\",\"basic.9y\",\"high.school\",\"illiterate\",\"professional.course\",\"university.degree\",\"u nknown\")\n",
    "\n",
    "\n",
    "5) **default**: has credit in default? (categorical: \"no\",\"yes\",\"unknown\")\n",
    "\n",
    "\n",
    "6) **housing**: has housing loan? (categorical: \"no\",\"yes\",\"unknown\")\n",
    "\n",
    "\n",
    "7) **loan**: has personal loan? (categorical: \"no\",\"yes\",\"unknown\")\n",
    "\n",
    "\n",
    "**Related with the last contact of the current campaign**:\n",
    "\n",
    "\n",
    "8) **contact**: contact communication type (categorical: \"cellular\",\"telephone\")\n",
    "\n",
    "\n",
    "9) **month**: last contact month of year (categorical: \"jan\", \"feb\", \"mar\", ..., \"nov\", \"dec\")\n",
    "\n",
    "\n",
    "\n",
    "10) **dayofweek**: last contact day of the week (categorical: \"mon\",\"tue\",\"wed\",\"thu\",\"fri\")\n",
    "\n",
    "\n",
    "11) **duration**: last contact duration, in seconds (numeric). Important note: this attribute highly affects the output target (e.g., if duration=0 then y=\"no\"). Yet, the duration is not known before a call is performed. Also, after the end of the call y is obviously known. Thus, this input should only be included for benchmark purposes and should be discarded if the intention is to have a realistic predictive model.\n",
    "\n",
    "\n",
    "**Other attributes**:\n",
    "\n",
    "12) **campaign**: number of contacts performed during this campaign and for this client (numeric,\n",
    "includes last contact)\n",
    "\n",
    "\n",
    "13) **pdays**: number of days that passed by after the client was last contacted from a previous campaign (numeric; 999 means client was not previously contacted)\n",
    "\n",
    "\n",
    "\n",
    "14) **previous**: number of contacts performed before this campaign and for this client (numeric)\n",
    "\n",
    "\n",
    "\n",
    "15) **poutcome**: outcome of the previous marketing campaign (categorical: \"failure\",\"nonexistent\",\"success\")\n",
    "\n",
    "\n",
    "\n",
    "**Social and economic context attributes**\n",
    "\n",
    "\n",
    "16) **emp.var.rate**: employment variation rate - quarterly indicator (numeric)\n",
    "\n",
    "\n",
    "17) **cons.price.idx**: consumer price index - monthly indicator (numeric)\n",
    "\n",
    "\n",
    "18) **cons.conf.idx**: consumer confidence index - monthly indicator (numeric)\n",
    "\n",
    "\n",
    "19) **concavepoints_se**: standard error for number of concave portions of the contour\n",
    "\n",
    "\n",
    "20) **euribor3m**: euribor 3 month rate - daily indicator (numeric)\n",
    "\n",
    "\n",
    "\n",
    "21) **nr.employed**: number of employees - quarterly indicator (numeric)\n",
    "\n",
    "\n",
    "\n",
    "**Output variable (desired target)**:\n",
    "\n",
    "\n",
    "22) **y**: has the client subscribed a term deposit? (binary: \"yes\",\"no\")\n",
    "\n",
    "\n"
   ]
  },
  {
   "cell_type": "markdown",
   "id": "5428039d",
   "metadata": {},
   "source": [
    "# Import Packages"
   ]
  },
  {
   "cell_type": "markdown",
   "id": "d10d0143",
   "metadata": {},
   "source": [
    "**Importing the necessary libraries**"
   ]
  },
  {
   "cell_type": "code",
   "execution_count": 3,
   "id": "3e8abea8",
   "metadata": {
    "ExecuteTime": {
     "end_time": "2021-11-13T18:46:03.810514Z",
     "start_time": "2021-11-13T18:46:01.789182Z"
    }
   },
   "outputs": [],
   "source": [
    "import warnings\n",
    "warnings.filterwarnings(\"ignore\")\n",
    "import pandas as pd \n",
    "import numpy as np\n",
    "import matplotlib.pyplot as plt\n",
    "import seaborn as sns\n",
    "from sklearn.preprocessing import StandardScaler\n",
    "from sklearn.model_selection import train_test_split\n",
    "from sklearn.ensemble import GradientBoostingClassifier\n",
    "from sklearn.model_selection import train_test_split\n",
    "from sklearn import metrics\n",
    "from sklearn.linear_model import LogisticRegression\n",
    "from sklearn.metrics import classification_report\n",
    "from sklearn.linear_model import SGDClassifier\n",
    "from sklearn.model_selection import GridSearchCV\n",
    "from sklearn.svm import SVC\n",
    "\n",
    "# import functions to perform logistic regression\n",
    "import statsmodels\n",
    "import statsmodels.api as sm\n",
    "from sklearn.ensemble import RandomForestClassifier\n",
    "from sklearn.preprocessing import StandardScaler\n",
    "from sklearn.model_selection import train_test_split\n",
    "from sklearn import metrics\n",
    "from sklearn.metrics import classification_report\n",
    "from sklearn.model_selection import GridSearchCV\n",
    "from sklearn.naive_bayes import GaussianNB\n",
    "from sklearn.neighbors import KNeighborsClassifier\n",
    "from sklearn.model_selection import cross_val_score "
   ]
  },
  {
   "cell_type": "markdown",
   "id": "2afa079d",
   "metadata": {
    "ExecuteTime": {
     "end_time": "2021-11-13T15:10:43.598064Z",
     "start_time": "2021-11-13T15:10:43.589888Z"
    }
   },
   "source": [
    "# Read Data"
   ]
  },
  {
   "cell_type": "code",
   "execution_count": 4,
   "id": "962822aa",
   "metadata": {
    "ExecuteTime": {
     "end_time": "2021-11-13T18:46:03.901629Z",
     "start_time": "2021-11-13T18:46:03.812296Z"
    }
   },
   "outputs": [],
   "source": [
    "data = pd.read_csv('../Dataset/Bank.csv',delimiter=\";\")"
   ]
  },
  {
   "cell_type": "code",
   "execution_count": 5,
   "id": "394e7e52",
   "metadata": {
    "ExecuteTime": {
     "end_time": "2021-11-13T18:46:03.923459Z",
     "start_time": "2021-11-13T18:46:03.902999Z"
    }
   },
   "outputs": [
    {
     "data": {
      "text/html": [
       "<div>\n",
       "<style scoped>\n",
       "    .dataframe tbody tr th:only-of-type {\n",
       "        vertical-align: middle;\n",
       "    }\n",
       "\n",
       "    .dataframe tbody tr th {\n",
       "        vertical-align: top;\n",
       "    }\n",
       "\n",
       "    .dataframe thead th {\n",
       "        text-align: right;\n",
       "    }\n",
       "</style>\n",
       "<table border=\"1\" class=\"dataframe\">\n",
       "  <thead>\n",
       "    <tr style=\"text-align: right;\">\n",
       "      <th></th>\n",
       "      <th>age</th>\n",
       "      <th>job</th>\n",
       "      <th>marital</th>\n",
       "      <th>education</th>\n",
       "      <th>default</th>\n",
       "      <th>housing</th>\n",
       "      <th>loan</th>\n",
       "      <th>contact</th>\n",
       "      <th>month</th>\n",
       "      <th>day_of_week</th>\n",
       "      <th>...</th>\n",
       "      <th>campaign</th>\n",
       "      <th>pdays</th>\n",
       "      <th>previous</th>\n",
       "      <th>poutcome</th>\n",
       "      <th>emp.var.rate</th>\n",
       "      <th>cons.price.idx</th>\n",
       "      <th>cons.conf.idx</th>\n",
       "      <th>euribor3m</th>\n",
       "      <th>nr.employed</th>\n",
       "      <th>y</th>\n",
       "    </tr>\n",
       "  </thead>\n",
       "  <tbody>\n",
       "    <tr>\n",
       "      <th>0</th>\n",
       "      <td>56</td>\n",
       "      <td>housemaid</td>\n",
       "      <td>married</td>\n",
       "      <td>basic.4y</td>\n",
       "      <td>no</td>\n",
       "      <td>no</td>\n",
       "      <td>no</td>\n",
       "      <td>telephone</td>\n",
       "      <td>may</td>\n",
       "      <td>mon</td>\n",
       "      <td>...</td>\n",
       "      <td>1</td>\n",
       "      <td>999</td>\n",
       "      <td>0</td>\n",
       "      <td>nonexistent</td>\n",
       "      <td>1.1</td>\n",
       "      <td>93.994</td>\n",
       "      <td>-36.4</td>\n",
       "      <td>4.857</td>\n",
       "      <td>5191.0</td>\n",
       "      <td>no</td>\n",
       "    </tr>\n",
       "    <tr>\n",
       "      <th>1</th>\n",
       "      <td>57</td>\n",
       "      <td>services</td>\n",
       "      <td>married</td>\n",
       "      <td>high.school</td>\n",
       "      <td>unknown</td>\n",
       "      <td>no</td>\n",
       "      <td>no</td>\n",
       "      <td>telephone</td>\n",
       "      <td>may</td>\n",
       "      <td>mon</td>\n",
       "      <td>...</td>\n",
       "      <td>1</td>\n",
       "      <td>999</td>\n",
       "      <td>0</td>\n",
       "      <td>nonexistent</td>\n",
       "      <td>1.1</td>\n",
       "      <td>93.994</td>\n",
       "      <td>-36.4</td>\n",
       "      <td>4.857</td>\n",
       "      <td>5191.0</td>\n",
       "      <td>no</td>\n",
       "    </tr>\n",
       "    <tr>\n",
       "      <th>2</th>\n",
       "      <td>37</td>\n",
       "      <td>services</td>\n",
       "      <td>married</td>\n",
       "      <td>high.school</td>\n",
       "      <td>no</td>\n",
       "      <td>yes</td>\n",
       "      <td>no</td>\n",
       "      <td>telephone</td>\n",
       "      <td>may</td>\n",
       "      <td>mon</td>\n",
       "      <td>...</td>\n",
       "      <td>1</td>\n",
       "      <td>999</td>\n",
       "      <td>0</td>\n",
       "      <td>nonexistent</td>\n",
       "      <td>1.1</td>\n",
       "      <td>93.994</td>\n",
       "      <td>-36.4</td>\n",
       "      <td>4.857</td>\n",
       "      <td>5191.0</td>\n",
       "      <td>no</td>\n",
       "    </tr>\n",
       "    <tr>\n",
       "      <th>3</th>\n",
       "      <td>40</td>\n",
       "      <td>admin.</td>\n",
       "      <td>married</td>\n",
       "      <td>basic.6y</td>\n",
       "      <td>no</td>\n",
       "      <td>no</td>\n",
       "      <td>no</td>\n",
       "      <td>telephone</td>\n",
       "      <td>may</td>\n",
       "      <td>mon</td>\n",
       "      <td>...</td>\n",
       "      <td>1</td>\n",
       "      <td>999</td>\n",
       "      <td>0</td>\n",
       "      <td>nonexistent</td>\n",
       "      <td>1.1</td>\n",
       "      <td>93.994</td>\n",
       "      <td>-36.4</td>\n",
       "      <td>4.857</td>\n",
       "      <td>5191.0</td>\n",
       "      <td>no</td>\n",
       "    </tr>\n",
       "    <tr>\n",
       "      <th>4</th>\n",
       "      <td>56</td>\n",
       "      <td>services</td>\n",
       "      <td>married</td>\n",
       "      <td>high.school</td>\n",
       "      <td>no</td>\n",
       "      <td>no</td>\n",
       "      <td>yes</td>\n",
       "      <td>telephone</td>\n",
       "      <td>may</td>\n",
       "      <td>mon</td>\n",
       "      <td>...</td>\n",
       "      <td>1</td>\n",
       "      <td>999</td>\n",
       "      <td>0</td>\n",
       "      <td>nonexistent</td>\n",
       "      <td>1.1</td>\n",
       "      <td>93.994</td>\n",
       "      <td>-36.4</td>\n",
       "      <td>4.857</td>\n",
       "      <td>5191.0</td>\n",
       "      <td>no</td>\n",
       "    </tr>\n",
       "  </tbody>\n",
       "</table>\n",
       "<p>5 rows × 21 columns</p>\n",
       "</div>"
      ],
      "text/plain": [
       "   age        job  marital    education  default housing loan    contact  \\\n",
       "0   56  housemaid  married     basic.4y       no      no   no  telephone   \n",
       "1   57   services  married  high.school  unknown      no   no  telephone   \n",
       "2   37   services  married  high.school       no     yes   no  telephone   \n",
       "3   40     admin.  married     basic.6y       no      no   no  telephone   \n",
       "4   56   services  married  high.school       no      no  yes  telephone   \n",
       "\n",
       "  month day_of_week  ...  campaign  pdays  previous     poutcome emp.var.rate  \\\n",
       "0   may         mon  ...         1    999         0  nonexistent          1.1   \n",
       "1   may         mon  ...         1    999         0  nonexistent          1.1   \n",
       "2   may         mon  ...         1    999         0  nonexistent          1.1   \n",
       "3   may         mon  ...         1    999         0  nonexistent          1.1   \n",
       "4   may         mon  ...         1    999         0  nonexistent          1.1   \n",
       "\n",
       "   cons.price.idx  cons.conf.idx  euribor3m  nr.employed   y  \n",
       "0          93.994          -36.4      4.857       5191.0  no  \n",
       "1          93.994          -36.4      4.857       5191.0  no  \n",
       "2          93.994          -36.4      4.857       5191.0  no  \n",
       "3          93.994          -36.4      4.857       5191.0  no  \n",
       "4          93.994          -36.4      4.857       5191.0  no  \n",
       "\n",
       "[5 rows x 21 columns]"
      ]
     },
     "execution_count": 5,
     "metadata": {},
     "output_type": "execute_result"
    }
   ],
   "source": [
    "data.head()"
   ]
  },
  {
   "cell_type": "markdown",
   "id": "60e6ab1b",
   "metadata": {},
   "source": [
    "# Analayzing the data"
   ]
  },
  {
   "cell_type": "code",
   "execution_count": 6,
   "id": "14100a17",
   "metadata": {
    "ExecuteTime": {
     "end_time": "2021-11-13T18:46:03.927931Z",
     "start_time": "2021-11-13T18:46:03.924849Z"
    }
   },
   "outputs": [
    {
     "data": {
      "text/plain": [
       "(41188, 21)"
      ]
     },
     "execution_count": 6,
     "metadata": {},
     "output_type": "execute_result"
    }
   ],
   "source": [
    "data.shape"
   ]
  },
  {
   "cell_type": "markdown",
   "id": "291055f6",
   "metadata": {},
   "source": [
    "# understanding the dataset"
   ]
  },
  {
   "cell_type": "code",
   "execution_count": 7,
   "id": "beca4819",
   "metadata": {
    "ExecuteTime": {
     "end_time": "2021-11-13T18:46:03.932848Z",
     "start_time": "2021-11-13T18:46:03.928970Z"
    }
   },
   "outputs": [
    {
     "data": {
      "text/plain": [
       "age                 int64\n",
       "job                object\n",
       "marital            object\n",
       "education          object\n",
       "default            object\n",
       "housing            object\n",
       "loan               object\n",
       "contact            object\n",
       "month              object\n",
       "day_of_week        object\n",
       "duration            int64\n",
       "campaign            int64\n",
       "pdays               int64\n",
       "previous            int64\n",
       "poutcome           object\n",
       "emp.var.rate      float64\n",
       "cons.price.idx    float64\n",
       "cons.conf.idx     float64\n",
       "euribor3m         float64\n",
       "nr.employed       float64\n",
       "y                  object\n",
       "dtype: object"
      ]
     },
     "execution_count": 7,
     "metadata": {},
     "output_type": "execute_result"
    }
   ],
   "source": [
    "data.dtypes"
   ]
  },
  {
   "cell_type": "code",
   "execution_count": 8,
   "id": "0ee44212",
   "metadata": {
    "ExecuteTime": {
     "end_time": "2021-11-13T18:46:03.959546Z",
     "start_time": "2021-11-13T18:46:03.933947Z"
    }
   },
   "outputs": [
    {
     "name": "stdout",
     "output_type": "stream",
     "text": [
      "<class 'pandas.core.frame.DataFrame'>\n",
      "RangeIndex: 41188 entries, 0 to 41187\n",
      "Data columns (total 21 columns):\n",
      " #   Column          Non-Null Count  Dtype  \n",
      "---  ------          --------------  -----  \n",
      " 0   age             41188 non-null  int64  \n",
      " 1   job             41188 non-null  object \n",
      " 2   marital         41188 non-null  object \n",
      " 3   education       41188 non-null  object \n",
      " 4   default         41188 non-null  object \n",
      " 5   housing         41188 non-null  object \n",
      " 6   loan            41188 non-null  object \n",
      " 7   contact         41188 non-null  object \n",
      " 8   month           41188 non-null  object \n",
      " 9   day_of_week     41188 non-null  object \n",
      " 10  duration        41188 non-null  int64  \n",
      " 11  campaign        41188 non-null  int64  \n",
      " 12  pdays           41188 non-null  int64  \n",
      " 13  previous        41188 non-null  int64  \n",
      " 14  poutcome        41188 non-null  object \n",
      " 15  emp.var.rate    41188 non-null  float64\n",
      " 16  cons.price.idx  41188 non-null  float64\n",
      " 17  cons.conf.idx   41188 non-null  float64\n",
      " 18  euribor3m       41188 non-null  float64\n",
      " 19  nr.employed     41188 non-null  float64\n",
      " 20  y               41188 non-null  object \n",
      "dtypes: float64(5), int64(5), object(11)\n",
      "memory usage: 6.6+ MB\n"
     ]
    }
   ],
   "source": [
    "data.info()"
   ]
  },
  {
   "cell_type": "code",
   "execution_count": 9,
   "id": "d457af5c",
   "metadata": {
    "ExecuteTime": {
     "end_time": "2021-11-13T18:46:03.989479Z",
     "start_time": "2021-11-13T18:46:03.960530Z"
    }
   },
   "outputs": [
    {
     "data": {
      "text/html": [
       "<div>\n",
       "<style scoped>\n",
       "    .dataframe tbody tr th:only-of-type {\n",
       "        vertical-align: middle;\n",
       "    }\n",
       "\n",
       "    .dataframe tbody tr th {\n",
       "        vertical-align: top;\n",
       "    }\n",
       "\n",
       "    .dataframe thead th {\n",
       "        text-align: right;\n",
       "    }\n",
       "</style>\n",
       "<table border=\"1\" class=\"dataframe\">\n",
       "  <thead>\n",
       "    <tr style=\"text-align: right;\">\n",
       "      <th></th>\n",
       "      <th>count</th>\n",
       "      <th>mean</th>\n",
       "      <th>std</th>\n",
       "      <th>min</th>\n",
       "      <th>25%</th>\n",
       "      <th>50%</th>\n",
       "      <th>75%</th>\n",
       "      <th>max</th>\n",
       "    </tr>\n",
       "  </thead>\n",
       "  <tbody>\n",
       "    <tr>\n",
       "      <th>age</th>\n",
       "      <td>41188.0</td>\n",
       "      <td>40.024060</td>\n",
       "      <td>10.421250</td>\n",
       "      <td>17.000</td>\n",
       "      <td>32.000</td>\n",
       "      <td>38.000</td>\n",
       "      <td>47.000</td>\n",
       "      <td>98.000</td>\n",
       "    </tr>\n",
       "    <tr>\n",
       "      <th>duration</th>\n",
       "      <td>41188.0</td>\n",
       "      <td>258.285010</td>\n",
       "      <td>259.279249</td>\n",
       "      <td>0.000</td>\n",
       "      <td>102.000</td>\n",
       "      <td>180.000</td>\n",
       "      <td>319.000</td>\n",
       "      <td>4918.000</td>\n",
       "    </tr>\n",
       "    <tr>\n",
       "      <th>campaign</th>\n",
       "      <td>41188.0</td>\n",
       "      <td>2.567593</td>\n",
       "      <td>2.770014</td>\n",
       "      <td>1.000</td>\n",
       "      <td>1.000</td>\n",
       "      <td>2.000</td>\n",
       "      <td>3.000</td>\n",
       "      <td>56.000</td>\n",
       "    </tr>\n",
       "    <tr>\n",
       "      <th>pdays</th>\n",
       "      <td>41188.0</td>\n",
       "      <td>962.475454</td>\n",
       "      <td>186.910907</td>\n",
       "      <td>0.000</td>\n",
       "      <td>999.000</td>\n",
       "      <td>999.000</td>\n",
       "      <td>999.000</td>\n",
       "      <td>999.000</td>\n",
       "    </tr>\n",
       "    <tr>\n",
       "      <th>previous</th>\n",
       "      <td>41188.0</td>\n",
       "      <td>0.172963</td>\n",
       "      <td>0.494901</td>\n",
       "      <td>0.000</td>\n",
       "      <td>0.000</td>\n",
       "      <td>0.000</td>\n",
       "      <td>0.000</td>\n",
       "      <td>7.000</td>\n",
       "    </tr>\n",
       "    <tr>\n",
       "      <th>emp.var.rate</th>\n",
       "      <td>41188.0</td>\n",
       "      <td>0.081886</td>\n",
       "      <td>1.570960</td>\n",
       "      <td>-3.400</td>\n",
       "      <td>-1.800</td>\n",
       "      <td>1.100</td>\n",
       "      <td>1.400</td>\n",
       "      <td>1.400</td>\n",
       "    </tr>\n",
       "    <tr>\n",
       "      <th>cons.price.idx</th>\n",
       "      <td>41188.0</td>\n",
       "      <td>93.575664</td>\n",
       "      <td>0.578840</td>\n",
       "      <td>92.201</td>\n",
       "      <td>93.075</td>\n",
       "      <td>93.749</td>\n",
       "      <td>93.994</td>\n",
       "      <td>94.767</td>\n",
       "    </tr>\n",
       "    <tr>\n",
       "      <th>cons.conf.idx</th>\n",
       "      <td>41188.0</td>\n",
       "      <td>-40.502600</td>\n",
       "      <td>4.628198</td>\n",
       "      <td>-50.800</td>\n",
       "      <td>-42.700</td>\n",
       "      <td>-41.800</td>\n",
       "      <td>-36.400</td>\n",
       "      <td>-26.900</td>\n",
       "    </tr>\n",
       "    <tr>\n",
       "      <th>euribor3m</th>\n",
       "      <td>41188.0</td>\n",
       "      <td>3.621291</td>\n",
       "      <td>1.734447</td>\n",
       "      <td>0.634</td>\n",
       "      <td>1.344</td>\n",
       "      <td>4.857</td>\n",
       "      <td>4.961</td>\n",
       "      <td>5.045</td>\n",
       "    </tr>\n",
       "    <tr>\n",
       "      <th>nr.employed</th>\n",
       "      <td>41188.0</td>\n",
       "      <td>5167.035911</td>\n",
       "      <td>72.251528</td>\n",
       "      <td>4963.600</td>\n",
       "      <td>5099.100</td>\n",
       "      <td>5191.000</td>\n",
       "      <td>5228.100</td>\n",
       "      <td>5228.100</td>\n",
       "    </tr>\n",
       "  </tbody>\n",
       "</table>\n",
       "</div>"
      ],
      "text/plain": [
       "                  count         mean         std       min       25%  \\\n",
       "age             41188.0    40.024060   10.421250    17.000    32.000   \n",
       "duration        41188.0   258.285010  259.279249     0.000   102.000   \n",
       "campaign        41188.0     2.567593    2.770014     1.000     1.000   \n",
       "pdays           41188.0   962.475454  186.910907     0.000   999.000   \n",
       "previous        41188.0     0.172963    0.494901     0.000     0.000   \n",
       "emp.var.rate    41188.0     0.081886    1.570960    -3.400    -1.800   \n",
       "cons.price.idx  41188.0    93.575664    0.578840    92.201    93.075   \n",
       "cons.conf.idx   41188.0   -40.502600    4.628198   -50.800   -42.700   \n",
       "euribor3m       41188.0     3.621291    1.734447     0.634     1.344   \n",
       "nr.employed     41188.0  5167.035911   72.251528  4963.600  5099.100   \n",
       "\n",
       "                     50%       75%       max  \n",
       "age               38.000    47.000    98.000  \n",
       "duration         180.000   319.000  4918.000  \n",
       "campaign           2.000     3.000    56.000  \n",
       "pdays            999.000   999.000   999.000  \n",
       "previous           0.000     0.000     7.000  \n",
       "emp.var.rate       1.100     1.400     1.400  \n",
       "cons.price.idx    93.749    93.994    94.767  \n",
       "cons.conf.idx    -41.800   -36.400   -26.900  \n",
       "euribor3m          4.857     4.961     5.045  \n",
       "nr.employed     5191.000  5228.100  5228.100  "
      ]
     },
     "execution_count": 9,
     "metadata": {},
     "output_type": "execute_result"
    }
   ],
   "source": [
    "data.describe().T"
   ]
  },
  {
   "cell_type": "code",
   "execution_count": 10,
   "id": "5f6a6f23",
   "metadata": {
    "ExecuteTime": {
     "end_time": "2021-11-13T18:46:04.067468Z",
     "start_time": "2021-11-13T18:46:03.991760Z"
    }
   },
   "outputs": [
    {
     "data": {
      "text/html": [
       "<div>\n",
       "<style scoped>\n",
       "    .dataframe tbody tr th:only-of-type {\n",
       "        vertical-align: middle;\n",
       "    }\n",
       "\n",
       "    .dataframe tbody tr th {\n",
       "        vertical-align: top;\n",
       "    }\n",
       "\n",
       "    .dataframe thead th {\n",
       "        text-align: right;\n",
       "    }\n",
       "</style>\n",
       "<table border=\"1\" class=\"dataframe\">\n",
       "  <thead>\n",
       "    <tr style=\"text-align: right;\">\n",
       "      <th></th>\n",
       "      <th>job</th>\n",
       "      <th>marital</th>\n",
       "      <th>education</th>\n",
       "      <th>default</th>\n",
       "      <th>housing</th>\n",
       "      <th>loan</th>\n",
       "      <th>contact</th>\n",
       "      <th>month</th>\n",
       "      <th>day_of_week</th>\n",
       "      <th>poutcome</th>\n",
       "      <th>y</th>\n",
       "    </tr>\n",
       "  </thead>\n",
       "  <tbody>\n",
       "    <tr>\n",
       "      <th>count</th>\n",
       "      <td>41188</td>\n",
       "      <td>41188</td>\n",
       "      <td>41188</td>\n",
       "      <td>41188</td>\n",
       "      <td>41188</td>\n",
       "      <td>41188</td>\n",
       "      <td>41188</td>\n",
       "      <td>41188</td>\n",
       "      <td>41188</td>\n",
       "      <td>41188</td>\n",
       "      <td>41188</td>\n",
       "    </tr>\n",
       "    <tr>\n",
       "      <th>unique</th>\n",
       "      <td>12</td>\n",
       "      <td>4</td>\n",
       "      <td>8</td>\n",
       "      <td>3</td>\n",
       "      <td>3</td>\n",
       "      <td>3</td>\n",
       "      <td>2</td>\n",
       "      <td>10</td>\n",
       "      <td>5</td>\n",
       "      <td>3</td>\n",
       "      <td>2</td>\n",
       "    </tr>\n",
       "    <tr>\n",
       "      <th>top</th>\n",
       "      <td>admin.</td>\n",
       "      <td>married</td>\n",
       "      <td>university.degree</td>\n",
       "      <td>no</td>\n",
       "      <td>yes</td>\n",
       "      <td>no</td>\n",
       "      <td>cellular</td>\n",
       "      <td>may</td>\n",
       "      <td>thu</td>\n",
       "      <td>nonexistent</td>\n",
       "      <td>no</td>\n",
       "    </tr>\n",
       "    <tr>\n",
       "      <th>freq</th>\n",
       "      <td>10422</td>\n",
       "      <td>24928</td>\n",
       "      <td>12168</td>\n",
       "      <td>32588</td>\n",
       "      <td>21576</td>\n",
       "      <td>33950</td>\n",
       "      <td>26144</td>\n",
       "      <td>13769</td>\n",
       "      <td>8623</td>\n",
       "      <td>35563</td>\n",
       "      <td>36548</td>\n",
       "    </tr>\n",
       "  </tbody>\n",
       "</table>\n",
       "</div>"
      ],
      "text/plain": [
       "           job  marital          education default housing   loan   contact  \\\n",
       "count    41188    41188              41188   41188   41188  41188     41188   \n",
       "unique      12        4                  8       3       3      3         2   \n",
       "top     admin.  married  university.degree      no     yes     no  cellular   \n",
       "freq     10422    24928              12168   32588   21576  33950     26144   \n",
       "\n",
       "        month day_of_week     poutcome      y  \n",
       "count   41188       41188        41188  41188  \n",
       "unique     10           5            3      2  \n",
       "top       may         thu  nonexistent     no  \n",
       "freq    13769        8623        35563  36548  "
      ]
     },
     "execution_count": 10,
     "metadata": {},
     "output_type": "execute_result"
    }
   ],
   "source": [
    "data.describe(include='O')"
   ]
  },
  {
   "cell_type": "code",
   "execution_count": 11,
   "id": "6225e8d9",
   "metadata": {
    "ExecuteTime": {
     "end_time": "2021-11-13T18:46:04.073621Z",
     "start_time": "2021-11-13T18:46:04.069326Z"
    }
   },
   "outputs": [
    {
     "data": {
      "text/plain": [
       "['job',\n",
       " 'marital',\n",
       " 'education',\n",
       " 'default',\n",
       " 'housing',\n",
       " 'loan',\n",
       " 'contact',\n",
       " 'month',\n",
       " 'day_of_week',\n",
       " 'poutcome',\n",
       " 'y']"
      ]
     },
     "execution_count": 11,
     "metadata": {},
     "output_type": "execute_result"
    }
   ],
   "source": [
    "cat_col=[col for col in data.columns.values if data[col].dtype=='object']\n",
    "cat_col"
   ]
  },
  {
   "cell_type": "code",
   "execution_count": 12,
   "id": "9eaec7ec",
   "metadata": {
    "ExecuteTime": {
     "end_time": "2021-11-13T18:46:04.085068Z",
     "start_time": "2021-11-13T18:46:04.074659Z"
    }
   },
   "outputs": [
    {
     "data": {
      "text/html": [
       "<div>\n",
       "<style scoped>\n",
       "    .dataframe tbody tr th:only-of-type {\n",
       "        vertical-align: middle;\n",
       "    }\n",
       "\n",
       "    .dataframe tbody tr th {\n",
       "        vertical-align: top;\n",
       "    }\n",
       "\n",
       "    .dataframe thead th {\n",
       "        text-align: right;\n",
       "    }\n",
       "</style>\n",
       "<table border=\"1\" class=\"dataframe\">\n",
       "  <thead>\n",
       "    <tr style=\"text-align: right;\">\n",
       "      <th></th>\n",
       "      <th>job</th>\n",
       "      <th>marital</th>\n",
       "      <th>education</th>\n",
       "      <th>default</th>\n",
       "      <th>housing</th>\n",
       "      <th>loan</th>\n",
       "      <th>contact</th>\n",
       "      <th>month</th>\n",
       "      <th>day_of_week</th>\n",
       "      <th>poutcome</th>\n",
       "      <th>y</th>\n",
       "    </tr>\n",
       "  </thead>\n",
       "  <tbody>\n",
       "    <tr>\n",
       "      <th>0</th>\n",
       "      <td>housemaid</td>\n",
       "      <td>married</td>\n",
       "      <td>basic.4y</td>\n",
       "      <td>no</td>\n",
       "      <td>no</td>\n",
       "      <td>no</td>\n",
       "      <td>telephone</td>\n",
       "      <td>may</td>\n",
       "      <td>mon</td>\n",
       "      <td>nonexistent</td>\n",
       "      <td>no</td>\n",
       "    </tr>\n",
       "    <tr>\n",
       "      <th>1</th>\n",
       "      <td>services</td>\n",
       "      <td>married</td>\n",
       "      <td>high.school</td>\n",
       "      <td>unknown</td>\n",
       "      <td>no</td>\n",
       "      <td>no</td>\n",
       "      <td>telephone</td>\n",
       "      <td>may</td>\n",
       "      <td>mon</td>\n",
       "      <td>nonexistent</td>\n",
       "      <td>no</td>\n",
       "    </tr>\n",
       "    <tr>\n",
       "      <th>2</th>\n",
       "      <td>services</td>\n",
       "      <td>married</td>\n",
       "      <td>high.school</td>\n",
       "      <td>no</td>\n",
       "      <td>yes</td>\n",
       "      <td>no</td>\n",
       "      <td>telephone</td>\n",
       "      <td>may</td>\n",
       "      <td>mon</td>\n",
       "      <td>nonexistent</td>\n",
       "      <td>no</td>\n",
       "    </tr>\n",
       "    <tr>\n",
       "      <th>3</th>\n",
       "      <td>admin.</td>\n",
       "      <td>married</td>\n",
       "      <td>basic.6y</td>\n",
       "      <td>no</td>\n",
       "      <td>no</td>\n",
       "      <td>no</td>\n",
       "      <td>telephone</td>\n",
       "      <td>may</td>\n",
       "      <td>mon</td>\n",
       "      <td>nonexistent</td>\n",
       "      <td>no</td>\n",
       "    </tr>\n",
       "    <tr>\n",
       "      <th>4</th>\n",
       "      <td>services</td>\n",
       "      <td>married</td>\n",
       "      <td>high.school</td>\n",
       "      <td>no</td>\n",
       "      <td>no</td>\n",
       "      <td>yes</td>\n",
       "      <td>telephone</td>\n",
       "      <td>may</td>\n",
       "      <td>mon</td>\n",
       "      <td>nonexistent</td>\n",
       "      <td>no</td>\n",
       "    </tr>\n",
       "  </tbody>\n",
       "</table>\n",
       "</div>"
      ],
      "text/plain": [
       "         job  marital    education  default housing loan    contact month  \\\n",
       "0  housemaid  married     basic.4y       no      no   no  telephone   may   \n",
       "1   services  married  high.school  unknown      no   no  telephone   may   \n",
       "2   services  married  high.school       no     yes   no  telephone   may   \n",
       "3     admin.  married     basic.6y       no      no   no  telephone   may   \n",
       "4   services  married  high.school       no      no  yes  telephone   may   \n",
       "\n",
       "  day_of_week     poutcome   y  \n",
       "0         mon  nonexistent  no  \n",
       "1         mon  nonexistent  no  \n",
       "2         mon  nonexistent  no  \n",
       "3         mon  nonexistent  no  \n",
       "4         mon  nonexistent  no  "
      ]
     },
     "execution_count": 12,
     "metadata": {},
     "output_type": "execute_result"
    }
   ],
   "source": [
    "df_cat=data[cat_col]\n",
    "df_cat.head()"
   ]
  },
  {
   "cell_type": "code",
   "execution_count": 13,
   "id": "809e824b",
   "metadata": {
    "ExecuteTime": {
     "end_time": "2021-11-13T18:46:04.128546Z",
     "start_time": "2021-11-13T18:46:04.086516Z"
    }
   },
   "outputs": [
    {
     "name": "stdout",
     "output_type": "stream",
     "text": [
      "\t job\n",
      "admin.           10422\n",
      "blue-collar       9254\n",
      "technician        6743\n",
      "services          3969\n",
      "management        2924\n",
      "retired           1720\n",
      "entrepreneur      1456\n",
      "self-employed     1421\n",
      "housemaid         1060\n",
      "unemployed        1014\n",
      "student            875\n",
      "unknown            330\n",
      "Name: job, dtype: int64\n",
      "\n",
      " **************************************************\n",
      "\t marital\n",
      "married     24928\n",
      "single      11568\n",
      "divorced     4612\n",
      "unknown        80\n",
      "Name: marital, dtype: int64\n",
      "\n",
      " **************************************************\n",
      "\t education\n",
      "university.degree      12168\n",
      "high.school             9515\n",
      "basic.9y                6045\n",
      "professional.course     5243\n",
      "basic.4y                4176\n",
      "basic.6y                2292\n",
      "unknown                 1731\n",
      "illiterate                18\n",
      "Name: education, dtype: int64\n",
      "\n",
      " **************************************************\n",
      "\t default\n",
      "no         32588\n",
      "unknown     8597\n",
      "yes            3\n",
      "Name: default, dtype: int64\n",
      "\n",
      " **************************************************\n",
      "\t housing\n",
      "yes        21576\n",
      "no         18622\n",
      "unknown      990\n",
      "Name: housing, dtype: int64\n",
      "\n",
      " **************************************************\n",
      "\t loan\n",
      "no         33950\n",
      "yes         6248\n",
      "unknown      990\n",
      "Name: loan, dtype: int64\n",
      "\n",
      " **************************************************\n",
      "\t contact\n",
      "cellular     26144\n",
      "telephone    15044\n",
      "Name: contact, dtype: int64\n",
      "\n",
      " **************************************************\n",
      "\t month\n",
      "may    13769\n",
      "jul     7174\n",
      "aug     6178\n",
      "jun     5318\n",
      "nov     4101\n",
      "apr     2632\n",
      "oct      718\n",
      "sep      570\n",
      "mar      546\n",
      "dec      182\n",
      "Name: month, dtype: int64\n",
      "\n",
      " **************************************************\n",
      "\t day_of_week\n",
      "thu    8623\n",
      "mon    8514\n",
      "wed    8134\n",
      "tue    8090\n",
      "fri    7827\n",
      "Name: day_of_week, dtype: int64\n",
      "\n",
      " **************************************************\n",
      "\t poutcome\n",
      "nonexistent    35563\n",
      "failure         4252\n",
      "success         1373\n",
      "Name: poutcome, dtype: int64\n",
      "\n",
      " **************************************************\n",
      "\t y\n",
      "no     36548\n",
      "yes     4640\n",
      "Name: y, dtype: int64\n",
      "\n",
      " **************************************************\n"
     ]
    }
   ],
   "source": [
    "for x in cat_col:\n",
    "    print(\"\\t\",x)\n",
    "    print(df_cat[x].value_counts())\n",
    "    print(\"\\n\",\"*\"*50)"
   ]
  },
  {
   "cell_type": "code",
   "execution_count": 14,
   "id": "fa48f778",
   "metadata": {
    "ExecuteTime": {
     "end_time": "2021-11-13T18:46:04.136538Z",
     "start_time": "2021-11-13T18:46:04.129652Z"
    }
   },
   "outputs": [
    {
     "data": {
      "text/plain": [
       "married     24928\n",
       "single      11568\n",
       "divorced     4612\n",
       "unknown        80\n",
       "Name: marital, dtype: int64"
      ]
     },
     "execution_count": 14,
     "metadata": {},
     "output_type": "execute_result"
    }
   ],
   "source": [
    "df_cat[\"marital\"].value_counts()"
   ]
  },
  {
   "cell_type": "code",
   "execution_count": 15,
   "id": "5c92fb54",
   "metadata": {
    "ExecuteTime": {
     "end_time": "2021-11-13T18:46:05.089407Z",
     "start_time": "2021-11-13T18:46:04.137601Z"
    }
   },
   "outputs": [
    {
     "name": "stdout",
     "output_type": "stream",
     "text": [
      "\t\t\t\t\t\t\t job\n"
     ]
    },
    {
     "data": {
      "image/png": "[encoded data removed]",
      "text/plain": [
       "<Figure size 432x288 with 1 Axes>"
      ]
     },
     "metadata": {
      "needs_background": "light"
     },
     "output_type": "display_data"
    },
    {
     "name": "stdout",
     "output_type": "stream",
     "text": [
      "\n",
      " ******************************************************************************************************************************************************\n",
      "\t\t\t\t\t\t\t marital\n"
     ]
    },
    {
     "data": {
      "image/png": "[encoded data removed]",
      "text/plain": [
       "<Figure size 432x288 with 1 Axes>"
      ]
     },
     "metadata": {
      "needs_background": "light"
     },
     "output_type": "display_data"
    },
    {
     "name": "stdout",
     "output_type": "stream",
     "text": [
      "\n",
      " ******************************************************************************************************************************************************\n",
      "\t\t\t\t\t\t\t education\n"
     ]
    },
    {
     "data": {
      "image/png": "[encoded data removed]",
      "text/plain": [
       "<Figure size 432x288 with 1 Axes>"
      ]
     },
     "metadata": {
      "needs_background": "light"
     },
     "output_type": "display_data"
    },
    {
     "name": "stdout",
     "output_type": "stream",
     "text": [
      "\n",
      " ******************************************************************************************************************************************************\n",
      "\t\t\t\t\t\t\t default\n"
     ]
    },
    {
     "data": {
      "image/png": "[encoded data removed]",
      "text/plain": [
       "<Figure size 432x288 with 1 Axes>"
      ]
     },
     "metadata": {
      "needs_background": "light"
     },
     "output_type": "display_data"
    },
    {
     "name": "stdout",
     "output_type": "stream",
     "text": [
      "\n",
      " ******************************************************************************************************************************************************\n",
      "\t\t\t\t\t\t\t housing\n"
     ]
    },
    {
     "data": {
      "image/png": "[encoded data removed]",
      "text/plain": [
       "<Figure size 432x288 with 1 Axes>"
      ]
     },
     "metadata": {
      "needs_background": "light"
     },
     "output_type": "display_data"
    },
    {
     "name": "stdout",
     "output_type": "stream",
     "text": [
      "\n",
      " ******************************************************************************************************************************************************\n",
      "\t\t\t\t\t\t\t loan\n"
     ]
    },
    {
     "data": {
      "image/png": "[encoded data removed]",
      "text/plain": [
       "<Figure size 432x288 with 1 Axes>"
      ]
     },
     "metadata": {
      "needs_background": "light"
     },
     "output_type": "display_data"
    },
    {
     "name": "stdout",
     "output_type": "stream",
     "text": [
      "\n",
      " ******************************************************************************************************************************************************\n",
      "\t\t\t\t\t\t\t contact\n"
     ]
    },
    {
     "data": {
      "image/png": "[encoded data removed]",
      "text/plain": [
       "<Figure size 432x288 with 1 Axes>"
      ]
     },
     "metadata": {
      "needs_background": "light"
     },
     "output_type": "display_data"
    },
    {
     "name": "stdout",
     "output_type": "stream",
     "text": [
      "\n",
      " ******************************************************************************************************************************************************\n",
      "\t\t\t\t\t\t\t month\n"
     ]
    },
    {
     "data": {
      "image/png": "[encoded data removed]",
      "text/plain": [
       "<Figure size 432x288 with 1 Axes>"
      ]
     },
     "metadata": {
      "needs_background": "light"
     },
     "output_type": "display_data"
    },
    {
     "name": "stdout",
     "output_type": "stream",
     "text": [
      "\n",
      " ******************************************************************************************************************************************************\n",
      "\t\t\t\t\t\t\t day_of_week\n"
     ]
    },
    {
     "data": {
      "image/png": "[encoded data removed]",
      "text/plain": [
       "<Figure size 432x288 with 1 Axes>"
      ]
     },
     "metadata": {
      "needs_background": "light"
     },
     "output_type": "display_data"
    },
    {
     "name": "stdout",
     "output_type": "stream",
     "text": [
      "\n",
      " ******************************************************************************************************************************************************\n",
      "\t\t\t\t\t\t\t poutcome\n"
     ]
    },
    {
     "data": {
      "image/png": "[encoded data removed]",
      "text/plain": [
       "<Figure size 432x288 with 1 Axes>"
      ]
     },
     "metadata": {
      "needs_background": "light"
     },
     "output_type": "display_data"
    },
    {
     "name": "stdout",
     "output_type": "stream",
     "text": [
      "\n",
      " ******************************************************************************************************************************************************\n",
      "\t\t\t\t\t\t\t y\n"
     ]
    },
    {
     "data": {
      "image/png": "[encoded data removed]",
      "text/plain": [
       "<Figure size 432x288 with 1 Axes>"
      ]
     },
     "metadata": {
      "needs_background": "light"
     },
     "output_type": "display_data"
    },
    {
     "name": "stdout",
     "output_type": "stream",
     "text": [
      "\n",
      " ******************************************************************************************************************************************************\n"
     ]
    }
   ],
   "source": [
    "for x in cat_col:\n",
    "    print(\"\\t\"*7,x)\n",
    "    sns.countplot(df_cat[x])\n",
    "    plt.show()\n",
    "    print(\"\\n\",\"*\"*150)"
   ]
  },
  {
   "cell_type": "code",
   "execution_count": 16,
   "id": "dc325eff",
   "metadata": {
    "ExecuteTime": {
     "end_time": "2021-11-13T18:46:05.091880Z",
     "start_time": "2021-11-13T18:46:05.090305Z"
    }
   },
   "outputs": [],
   "source": [
    "from pandas.api.types import is_string_dtype  \n",
    "# from pandas library we are using is_string_dtype function"
   ]
  },
  {
   "cell_type": "code",
   "execution_count": 17,
   "id": "8a59e2bb",
   "metadata": {
    "ExecuteTime": {
     "end_time": "2021-11-13T18:46:05.918426Z",
     "start_time": "2021-11-13T18:46:05.092770Z"
    }
   },
   "outputs": [
    {
     "data": {
      "image/png": "[encoded data removed]",
      "text/plain": [
       "<Figure size 1800x2160 with 10 Axes>"
      ]
     },
     "metadata": {
      "needs_background": "light"
     },
     "output_type": "display_data"
    }
   ],
   "source": [
    "\n",
    "categorical=[]   #creating an empty list categorical and if the data type is categorical we are appending it into the list using for loop#\n",
    "\n",
    "for column in data: \n",
    "    if is_string_dtype(data[column]):\n",
    "        categorical.append(column)\n",
    "\n",
    "# we are plotting a count plot of the categorical variables\n",
    "fig, ax = plt.subplots(nrows = 5, ncols = 2, figsize=(25, 30))\n",
    "for variable, subplot in zip(categorical, ax.flatten()):\n",
    "    sns.countplot(data[variable], ax = subplot)\n",
    "plt.show()"
   ]
  },
  {
   "cell_type": "markdown",
   "id": "1ab9e5f8",
   "metadata": {},
   "source": [
    "**we have plotted count plot for different categorical variables there are 10 varibles that are job marital object education object default object housing object loan object contact object month object day_of_week object y object we can conclude these things from the graph that most bank clients are from admin,bluecollar and technician. Mostly are married. Almost clients have university degree Most term deposit is in may month and and in all days of week Most clients dont have loan on them There are data of mixed clients who uses telephone as well as cellular for contact**"
   ]
  },
  {
   "cell_type": "markdown",
   "id": "174f3a4b",
   "metadata": {},
   "source": [
    " # Lets plot countplot of target variable y i.e term deposit"
   ]
  },
  {
   "cell_type": "code",
   "execution_count": 18,
   "id": "e5571c04",
   "metadata": {
    "ExecuteTime": {
     "end_time": "2021-11-13T18:46:05.925072Z",
     "start_time": "2021-11-13T18:46:05.919331Z"
    }
   },
   "outputs": [
    {
     "data": {
      "text/plain": [
       "no     36548\n",
       "yes     4640\n",
       "Name: y, dtype: int64"
      ]
     },
     "execution_count": 18,
     "metadata": {},
     "output_type": "execute_result"
    }
   ],
   "source": [
    "data.y.value_counts()"
   ]
  },
  {
   "cell_type": "code",
   "execution_count": 19,
   "id": "d77d997d",
   "metadata": {
    "ExecuteTime": {
     "end_time": "2021-11-13T18:46:06.000766Z",
     "start_time": "2021-11-13T18:46:05.925944Z"
    }
   },
   "outputs": [
    {
     "data": {
      "text/plain": [
       "<AxesSubplot:xlabel='y', ylabel='count'>"
      ]
     },
     "execution_count": 19,
     "metadata": {},
     "output_type": "execute_result"
    },
    {
     "data": {
      "image/png": "[encoded data removed]",
      "text/plain": [
       "<Figure size 432x288 with 1 Axes>"
      ]
     },
     "metadata": {
      "needs_background": "light"
     },
     "output_type": "display_data"
    }
   ],
   "source": [
    "sns.countplot(data.y)"
   ]
  },
  {
   "cell_type": "markdown",
   "id": "bbbeeede",
   "metadata": {},
   "source": [
    "**Majority dont want a term deposit**"
   ]
  },
  {
   "cell_type": "markdown",
   "id": "ec6cef84",
   "metadata": {
    "ExecuteTime": {
     "end_time": "2021-11-13T15:19:29.643655Z",
     "start_time": "2021-11-13T15:19:29.641034Z"
    }
   },
   "source": [
    "# Missing value analysis"
   ]
  },
  {
   "cell_type": "code",
   "execution_count": 20,
   "id": "7e93f134",
   "metadata": {
    "ExecuteTime": {
     "end_time": "2021-11-13T18:46:06.021529Z",
     "start_time": "2021-11-13T18:46:06.001804Z"
    }
   },
   "outputs": [
    {
     "data": {
      "text/plain": [
       "age               0\n",
       "job               0\n",
       "marital           0\n",
       "education         0\n",
       "default           0\n",
       "housing           0\n",
       "loan              0\n",
       "contact           0\n",
       "month             0\n",
       "day_of_week       0\n",
       "duration          0\n",
       "campaign          0\n",
       "pdays             0\n",
       "previous          0\n",
       "poutcome          0\n",
       "emp.var.rate      0\n",
       "cons.price.idx    0\n",
       "cons.conf.idx     0\n",
       "euribor3m         0\n",
       "nr.employed       0\n",
       "y                 0\n",
       "dtype: int64"
      ]
     },
     "execution_count": 20,
     "metadata": {},
     "output_type": "execute_result"
    }
   ],
   "source": [
    "missing_val=data.isnull().sum()\n",
    "missing_val"
   ]
  },
  {
   "cell_type": "code",
   "execution_count": 21,
   "id": "3040f9a2",
   "metadata": {
    "ExecuteTime": {
     "end_time": "2021-11-13T18:46:06.793799Z",
     "start_time": "2021-11-13T18:46:06.022549Z"
    }
   },
   "outputs": [
    {
     "data": {
      "text/plain": [
       "<AxesSubplot:>"
      ]
     },
     "execution_count": 21,
     "metadata": {},
     "output_type": "execute_result"
    },
    {
     "data": {
      "image/png": "[encoded data removed]",
      "text/plain": [
       "<Figure size 432x288 with 2 Axes>"
      ]
     },
     "metadata": {
      "needs_background": "light"
     },
     "output_type": "display_data"
    }
   ],
   "source": [
    "sns.heatmap(data.isnull())"
   ]
  },
  {
   "cell_type": "markdown",
   "id": "d38f358f",
   "metadata": {},
   "source": [
    "**we can see that there are no missing values**"
   ]
  },
  {
   "cell_type": "markdown",
   "id": "0f168d10",
   "metadata": {},
   "source": [
    "**Here i am not doing label encoding because i think i cannot give order to any categorical variable**"
   ]
  },
  {
   "cell_type": "markdown",
   "id": "5045e369",
   "metadata": {
    "ExecuteTime": {
     "end_time": "2021-11-13T15:21:07.313744Z",
     "start_time": "2021-11-13T15:21:07.311118Z"
    }
   },
   "source": [
    "# Making a  another dataframe for categorical variables"
   ]
  },
  {
   "cell_type": "code",
   "execution_count": 22,
   "id": "f0758528",
   "metadata": {
    "ExecuteTime": {
     "end_time": "2021-11-13T18:46:06.799774Z",
     "start_time": "2021-11-13T18:46:06.794726Z"
    }
   },
   "outputs": [],
   "source": [
    "df_cat=data[categorical]"
   ]
  },
  {
   "cell_type": "code",
   "execution_count": 23,
   "id": "f15c9c8f",
   "metadata": {
    "ExecuteTime": {
     "end_time": "2021-11-13T18:46:06.805322Z",
     "start_time": "2021-11-13T18:46:06.800620Z"
    }
   },
   "outputs": [],
   "source": [
    "df_cat['target']=np.where(data['y']=='yes',1,0)"
   ]
  },
  {
   "cell_type": "code",
   "execution_count": 24,
   "id": "4f543575",
   "metadata": {
    "ExecuteTime": {
     "end_time": "2021-11-13T18:46:06.808613Z",
     "start_time": "2021-11-13T18:46:06.806267Z"
    }
   },
   "outputs": [
    {
     "data": {
      "text/plain": [
       "Index(['job', 'marital', 'education', 'default', 'housing', 'loan', 'contact',\n",
       "       'month', 'day_of_week', 'poutcome', 'y', 'target'],\n",
       "      dtype='object')"
      ]
     },
     "execution_count": 24,
     "metadata": {},
     "output_type": "execute_result"
    }
   ],
   "source": [
    "df_cat.columns"
   ]
  },
  {
   "cell_type": "code",
   "execution_count": 25,
   "id": "077c7d8c",
   "metadata": {
    "ExecuteTime": {
     "end_time": "2021-11-13T18:46:06.819167Z",
     "start_time": "2021-11-13T18:46:06.812477Z"
    }
   },
   "outputs": [],
   "source": [
    "df_cat.drop(['y'], axis=1,inplace=True)  "
   ]
  },
  {
   "cell_type": "code",
   "execution_count": 26,
   "id": "d496be97",
   "metadata": {
    "ExecuteTime": {
     "end_time": "2021-11-13T18:46:06.823619Z",
     "start_time": "2021-11-13T18:46:06.821192Z"
    }
   },
   "outputs": [
    {
     "data": {
      "text/plain": [
       "Index(['job', 'marital', 'education', 'default', 'housing', 'loan', 'contact',\n",
       "       'month', 'day_of_week', 'poutcome', 'target'],\n",
       "      dtype='object')"
      ]
     },
     "execution_count": 26,
     "metadata": {},
     "output_type": "execute_result"
    }
   ],
   "source": [
    "df_cat.columns"
   ]
  },
  {
   "cell_type": "code",
   "execution_count": 27,
   "id": "1180d7e7",
   "metadata": {
    "ExecuteTime": {
     "end_time": "2021-11-13T18:46:06.827299Z",
     "start_time": "2021-11-13T18:46:06.824566Z"
    }
   },
   "outputs": [],
   "source": [
    "df_num=data.drop(categorical,axis=1)"
   ]
  },
  {
   "cell_type": "code",
   "execution_count": 28,
   "id": "b064dba6",
   "metadata": {
    "ExecuteTime": {
     "end_time": "2021-11-13T18:46:06.831632Z",
     "start_time": "2021-11-13T18:46:06.828346Z"
    }
   },
   "outputs": [
    {
     "data": {
      "text/plain": [
       "0        0\n",
       "1        0\n",
       "2        0\n",
       "3        0\n",
       "4        0\n",
       "        ..\n",
       "41183    1\n",
       "41184    0\n",
       "41185    0\n",
       "41186    1\n",
       "41187    0\n",
       "Name: target, Length: 41188, dtype: int64"
      ]
     },
     "execution_count": 28,
     "metadata": {},
     "output_type": "execute_result"
    }
   ],
   "source": [
    "df_target=df_cat.target\n",
    "df_target"
   ]
  },
  {
   "cell_type": "code",
   "execution_count": 29,
   "id": "9139a3b5",
   "metadata": {
    "ExecuteTime": {
     "end_time": "2021-11-13T18:46:06.839941Z",
     "start_time": "2021-11-13T18:46:06.832825Z"
    }
   },
   "outputs": [],
   "source": [
    "df_cat.drop(['target'], axis=1,inplace=True) \n"
   ]
  },
  {
   "cell_type": "code",
   "execution_count": 30,
   "id": "b80cc5ff",
   "metadata": {
    "ExecuteTime": {
     "end_time": "2021-11-13T18:46:06.843657Z",
     "start_time": "2021-11-13T18:46:06.841091Z"
    }
   },
   "outputs": [
    {
     "data": {
      "text/plain": [
       "Index(['job', 'marital', 'education', 'default', 'housing', 'loan', 'contact',\n",
       "       'month', 'day_of_week', 'poutcome'],\n",
       "      dtype='object')"
      ]
     },
     "execution_count": 30,
     "metadata": {},
     "output_type": "execute_result"
    }
   ],
   "source": [
    "df_cat.columns"
   ]
  },
  {
   "cell_type": "code",
   "execution_count": 31,
   "id": "9d0cbd0a",
   "metadata": {
    "ExecuteTime": {
     "end_time": "2021-11-13T18:46:06.887842Z",
     "start_time": "2021-11-13T18:46:06.844754Z"
    }
   },
   "outputs": [
    {
     "data": {
      "text/html": [
       "<div>\n",
       "<style scoped>\n",
       "    .dataframe tbody tr th:only-of-type {\n",
       "        vertical-align: middle;\n",
       "    }\n",
       "\n",
       "    .dataframe tbody tr th {\n",
       "        vertical-align: top;\n",
       "    }\n",
       "\n",
       "    .dataframe thead th {\n",
       "        text-align: right;\n",
       "    }\n",
       "</style>\n",
       "<table border=\"1\" class=\"dataframe\">\n",
       "  <thead>\n",
       "    <tr style=\"text-align: right;\">\n",
       "      <th></th>\n",
       "      <th>job_blue-collar</th>\n",
       "      <th>job_entrepreneur</th>\n",
       "      <th>job_housemaid</th>\n",
       "      <th>job_management</th>\n",
       "      <th>job_retired</th>\n",
       "      <th>job_self-employed</th>\n",
       "      <th>job_services</th>\n",
       "      <th>job_student</th>\n",
       "      <th>job_technician</th>\n",
       "      <th>job_unemployed</th>\n",
       "      <th>...</th>\n",
       "      <th>month_may</th>\n",
       "      <th>month_nov</th>\n",
       "      <th>month_oct</th>\n",
       "      <th>month_sep</th>\n",
       "      <th>day_of_week_mon</th>\n",
       "      <th>day_of_week_thu</th>\n",
       "      <th>day_of_week_tue</th>\n",
       "      <th>day_of_week_wed</th>\n",
       "      <th>poutcome_nonexistent</th>\n",
       "      <th>poutcome_success</th>\n",
       "    </tr>\n",
       "  </thead>\n",
       "  <tbody>\n",
       "    <tr>\n",
       "      <th>0</th>\n",
       "      <td>0</td>\n",
       "      <td>0</td>\n",
       "      <td>1</td>\n",
       "      <td>0</td>\n",
       "      <td>0</td>\n",
       "      <td>0</td>\n",
       "      <td>0</td>\n",
       "      <td>0</td>\n",
       "      <td>0</td>\n",
       "      <td>0</td>\n",
       "      <td>...</td>\n",
       "      <td>1</td>\n",
       "      <td>0</td>\n",
       "      <td>0</td>\n",
       "      <td>0</td>\n",
       "      <td>1</td>\n",
       "      <td>0</td>\n",
       "      <td>0</td>\n",
       "      <td>0</td>\n",
       "      <td>1</td>\n",
       "      <td>0</td>\n",
       "    </tr>\n",
       "    <tr>\n",
       "      <th>1</th>\n",
       "      <td>0</td>\n",
       "      <td>0</td>\n",
       "      <td>0</td>\n",
       "      <td>0</td>\n",
       "      <td>0</td>\n",
       "      <td>0</td>\n",
       "      <td>1</td>\n",
       "      <td>0</td>\n",
       "      <td>0</td>\n",
       "      <td>0</td>\n",
       "      <td>...</td>\n",
       "      <td>1</td>\n",
       "      <td>0</td>\n",
       "      <td>0</td>\n",
       "      <td>0</td>\n",
       "      <td>1</td>\n",
       "      <td>0</td>\n",
       "      <td>0</td>\n",
       "      <td>0</td>\n",
       "      <td>1</td>\n",
       "      <td>0</td>\n",
       "    </tr>\n",
       "    <tr>\n",
       "      <th>2</th>\n",
       "      <td>0</td>\n",
       "      <td>0</td>\n",
       "      <td>0</td>\n",
       "      <td>0</td>\n",
       "      <td>0</td>\n",
       "      <td>0</td>\n",
       "      <td>1</td>\n",
       "      <td>0</td>\n",
       "      <td>0</td>\n",
       "      <td>0</td>\n",
       "      <td>...</td>\n",
       "      <td>1</td>\n",
       "      <td>0</td>\n",
       "      <td>0</td>\n",
       "      <td>0</td>\n",
       "      <td>1</td>\n",
       "      <td>0</td>\n",
       "      <td>0</td>\n",
       "      <td>0</td>\n",
       "      <td>1</td>\n",
       "      <td>0</td>\n",
       "    </tr>\n",
       "    <tr>\n",
       "      <th>3</th>\n",
       "      <td>0</td>\n",
       "      <td>0</td>\n",
       "      <td>0</td>\n",
       "      <td>0</td>\n",
       "      <td>0</td>\n",
       "      <td>0</td>\n",
       "      <td>0</td>\n",
       "      <td>0</td>\n",
       "      <td>0</td>\n",
       "      <td>0</td>\n",
       "      <td>...</td>\n",
       "      <td>1</td>\n",
       "      <td>0</td>\n",
       "      <td>0</td>\n",
       "      <td>0</td>\n",
       "      <td>1</td>\n",
       "      <td>0</td>\n",
       "      <td>0</td>\n",
       "      <td>0</td>\n",
       "      <td>1</td>\n",
       "      <td>0</td>\n",
       "    </tr>\n",
       "    <tr>\n",
       "      <th>4</th>\n",
       "      <td>0</td>\n",
       "      <td>0</td>\n",
       "      <td>0</td>\n",
       "      <td>0</td>\n",
       "      <td>0</td>\n",
       "      <td>0</td>\n",
       "      <td>1</td>\n",
       "      <td>0</td>\n",
       "      <td>0</td>\n",
       "      <td>0</td>\n",
       "      <td>...</td>\n",
       "      <td>1</td>\n",
       "      <td>0</td>\n",
       "      <td>0</td>\n",
       "      <td>0</td>\n",
       "      <td>1</td>\n",
       "      <td>0</td>\n",
       "      <td>0</td>\n",
       "      <td>0</td>\n",
       "      <td>1</td>\n",
       "      <td>0</td>\n",
       "    </tr>\n",
       "    <tr>\n",
       "      <th>...</th>\n",
       "      <td>...</td>\n",
       "      <td>...</td>\n",
       "      <td>...</td>\n",
       "      <td>...</td>\n",
       "      <td>...</td>\n",
       "      <td>...</td>\n",
       "      <td>...</td>\n",
       "      <td>...</td>\n",
       "      <td>...</td>\n",
       "      <td>...</td>\n",
       "      <td>...</td>\n",
       "      <td>...</td>\n",
       "      <td>...</td>\n",
       "      <td>...</td>\n",
       "      <td>...</td>\n",
       "      <td>...</td>\n",
       "      <td>...</td>\n",
       "      <td>...</td>\n",
       "      <td>...</td>\n",
       "      <td>...</td>\n",
       "      <td>...</td>\n",
       "    </tr>\n",
       "    <tr>\n",
       "      <th>41183</th>\n",
       "      <td>0</td>\n",
       "      <td>0</td>\n",
       "      <td>0</td>\n",
       "      <td>0</td>\n",
       "      <td>1</td>\n",
       "      <td>0</td>\n",
       "      <td>0</td>\n",
       "      <td>0</td>\n",
       "      <td>0</td>\n",
       "      <td>0</td>\n",
       "      <td>...</td>\n",
       "      <td>0</td>\n",
       "      <td>1</td>\n",
       "      <td>0</td>\n",
       "      <td>0</td>\n",
       "      <td>0</td>\n",
       "      <td>0</td>\n",
       "      <td>0</td>\n",
       "      <td>0</td>\n",
       "      <td>1</td>\n",
       "      <td>0</td>\n",
       "    </tr>\n",
       "    <tr>\n",
       "      <th>41184</th>\n",
       "      <td>1</td>\n",
       "      <td>0</td>\n",
       "      <td>0</td>\n",
       "      <td>0</td>\n",
       "      <td>0</td>\n",
       "      <td>0</td>\n",
       "      <td>0</td>\n",
       "      <td>0</td>\n",
       "      <td>0</td>\n",
       "      <td>0</td>\n",
       "      <td>...</td>\n",
       "      <td>0</td>\n",
       "      <td>1</td>\n",
       "      <td>0</td>\n",
       "      <td>0</td>\n",
       "      <td>0</td>\n",
       "      <td>0</td>\n",
       "      <td>0</td>\n",
       "      <td>0</td>\n",
       "      <td>1</td>\n",
       "      <td>0</td>\n",
       "    </tr>\n",
       "    <tr>\n",
       "      <th>41185</th>\n",
       "      <td>0</td>\n",
       "      <td>0</td>\n",
       "      <td>0</td>\n",
       "      <td>0</td>\n",
       "      <td>1</td>\n",
       "      <td>0</td>\n",
       "      <td>0</td>\n",
       "      <td>0</td>\n",
       "      <td>0</td>\n",
       "      <td>0</td>\n",
       "      <td>...</td>\n",
       "      <td>0</td>\n",
       "      <td>1</td>\n",
       "      <td>0</td>\n",
       "      <td>0</td>\n",
       "      <td>0</td>\n",
       "      <td>0</td>\n",
       "      <td>0</td>\n",
       "      <td>0</td>\n",
       "      <td>1</td>\n",
       "      <td>0</td>\n",
       "    </tr>\n",
       "    <tr>\n",
       "      <th>41186</th>\n",
       "      <td>0</td>\n",
       "      <td>0</td>\n",
       "      <td>0</td>\n",
       "      <td>0</td>\n",
       "      <td>0</td>\n",
       "      <td>0</td>\n",
       "      <td>0</td>\n",
       "      <td>0</td>\n",
       "      <td>1</td>\n",
       "      <td>0</td>\n",
       "      <td>...</td>\n",
       "      <td>0</td>\n",
       "      <td>1</td>\n",
       "      <td>0</td>\n",
       "      <td>0</td>\n",
       "      <td>0</td>\n",
       "      <td>0</td>\n",
       "      <td>0</td>\n",
       "      <td>0</td>\n",
       "      <td>1</td>\n",
       "      <td>0</td>\n",
       "    </tr>\n",
       "    <tr>\n",
       "      <th>41187</th>\n",
       "      <td>0</td>\n",
       "      <td>0</td>\n",
       "      <td>0</td>\n",
       "      <td>0</td>\n",
       "      <td>1</td>\n",
       "      <td>0</td>\n",
       "      <td>0</td>\n",
       "      <td>0</td>\n",
       "      <td>0</td>\n",
       "      <td>0</td>\n",
       "      <td>...</td>\n",
       "      <td>0</td>\n",
       "      <td>1</td>\n",
       "      <td>0</td>\n",
       "      <td>0</td>\n",
       "      <td>0</td>\n",
       "      <td>0</td>\n",
       "      <td>0</td>\n",
       "      <td>0</td>\n",
       "      <td>0</td>\n",
       "      <td>0</td>\n",
       "    </tr>\n",
       "  </tbody>\n",
       "</table>\n",
       "<p>41188 rows × 43 columns</p>\n",
       "</div>"
      ],
      "text/plain": [
       "       job_blue-collar  job_entrepreneur  job_housemaid  job_management  \\\n",
       "0                    0                 0              1               0   \n",
       "1                    0                 0              0               0   \n",
       "2                    0                 0              0               0   \n",
       "3                    0                 0              0               0   \n",
       "4                    0                 0              0               0   \n",
       "...                ...               ...            ...             ...   \n",
       "41183                0                 0              0               0   \n",
       "41184                1                 0              0               0   \n",
       "41185                0                 0              0               0   \n",
       "41186                0                 0              0               0   \n",
       "41187                0                 0              0               0   \n",
       "\n",
       "       job_retired  job_self-employed  job_services  job_student  \\\n",
       "0                0                  0             0            0   \n",
       "1                0                  0             1            0   \n",
       "2                0                  0             1            0   \n",
       "3                0                  0             0            0   \n",
       "4                0                  0             1            0   \n",
       "...            ...                ...           ...          ...   \n",
       "41183            1                  0             0            0   \n",
       "41184            0                  0             0            0   \n",
       "41185            1                  0             0            0   \n",
       "41186            0                  0             0            0   \n",
       "41187            1                  0             0            0   \n",
       "\n",
       "       job_technician  job_unemployed  ...  month_may  month_nov  month_oct  \\\n",
       "0                   0               0  ...          1          0          0   \n",
       "1                   0               0  ...          1          0          0   \n",
       "2                   0               0  ...          1          0          0   \n",
       "3                   0               0  ...          1          0          0   \n",
       "4                   0               0  ...          1          0          0   \n",
       "...               ...             ...  ...        ...        ...        ...   \n",
       "41183               0               0  ...          0          1          0   \n",
       "41184               0               0  ...          0          1          0   \n",
       "41185               0               0  ...          0          1          0   \n",
       "41186               1               0  ...          0          1          0   \n",
       "41187               0               0  ...          0          1          0   \n",
       "\n",
       "       month_sep  day_of_week_mon  day_of_week_thu  day_of_week_tue  \\\n",
       "0              0                1                0                0   \n",
       "1              0                1                0                0   \n",
       "2              0                1                0                0   \n",
       "3              0                1                0                0   \n",
       "4              0                1                0                0   \n",
       "...          ...              ...              ...              ...   \n",
       "41183          0                0                0                0   \n",
       "41184          0                0                0                0   \n",
       "41185          0                0                0                0   \n",
       "41186          0                0                0                0   \n",
       "41187          0                0                0                0   \n",
       "\n",
       "       day_of_week_wed  poutcome_nonexistent  poutcome_success  \n",
       "0                    0                     1                 0  \n",
       "1                    0                     1                 0  \n",
       "2                    0                     1                 0  \n",
       "3                    0                     1                 0  \n",
       "4                    0                     1                 0  \n",
       "...                ...                   ...               ...  \n",
       "41183                0                     1                 0  \n",
       "41184                0                     1                 0  \n",
       "41185                0                     1                 0  \n",
       "41186                0                     1                 0  \n",
       "41187                0                     0                 0  \n",
       "\n",
       "[41188 rows x 43 columns]"
      ]
     },
     "execution_count": 31,
     "metadata": {},
     "output_type": "execute_result"
    }
   ],
   "source": [
    "df_cat_dummy=pd.get_dummies(df_cat,drop_first = True)\n",
    "df_cat_dummy"
   ]
  },
  {
   "cell_type": "code",
   "execution_count": 32,
   "id": "022c3527",
   "metadata": {
    "ExecuteTime": {
     "end_time": "2021-11-13T18:46:06.891970Z",
     "start_time": "2021-11-13T18:46:06.888954Z"
    }
   },
   "outputs": [
    {
     "data": {
      "text/plain": [
       "(41188, 43)"
      ]
     },
     "execution_count": 32,
     "metadata": {},
     "output_type": "execute_result"
    }
   ],
   "source": [
    "df_cat_dummy.shape"
   ]
  },
  {
   "cell_type": "code",
   "execution_count": 33,
   "id": "83ac0c88",
   "metadata": {
    "ExecuteTime": {
     "end_time": "2021-11-13T18:46:06.913525Z",
     "start_time": "2021-11-13T18:46:06.893311Z"
    }
   },
   "outputs": [
    {
     "data": {
      "text/html": [
       "<div>\n",
       "<style scoped>\n",
       "    .dataframe tbody tr th:only-of-type {\n",
       "        vertical-align: middle;\n",
       "    }\n",
       "\n",
       "    .dataframe tbody tr th {\n",
       "        vertical-align: top;\n",
       "    }\n",
       "\n",
       "    .dataframe thead th {\n",
       "        text-align: right;\n",
       "    }\n",
       "</style>\n",
       "<table border=\"1\" class=\"dataframe\">\n",
       "  <thead>\n",
       "    <tr style=\"text-align: right;\">\n",
       "      <th></th>\n",
       "      <th>job_blue-collar</th>\n",
       "      <th>job_entrepreneur</th>\n",
       "      <th>job_housemaid</th>\n",
       "      <th>job_management</th>\n",
       "      <th>job_retired</th>\n",
       "      <th>job_self-employed</th>\n",
       "      <th>job_services</th>\n",
       "      <th>job_student</th>\n",
       "      <th>job_technician</th>\n",
       "      <th>job_unemployed</th>\n",
       "      <th>...</th>\n",
       "      <th>age</th>\n",
       "      <th>duration</th>\n",
       "      <th>campaign</th>\n",
       "      <th>pdays</th>\n",
       "      <th>previous</th>\n",
       "      <th>emp.var.rate</th>\n",
       "      <th>cons.price.idx</th>\n",
       "      <th>cons.conf.idx</th>\n",
       "      <th>euribor3m</th>\n",
       "      <th>nr.employed</th>\n",
       "    </tr>\n",
       "  </thead>\n",
       "  <tbody>\n",
       "    <tr>\n",
       "      <th>0</th>\n",
       "      <td>0</td>\n",
       "      <td>0</td>\n",
       "      <td>1</td>\n",
       "      <td>0</td>\n",
       "      <td>0</td>\n",
       "      <td>0</td>\n",
       "      <td>0</td>\n",
       "      <td>0</td>\n",
       "      <td>0</td>\n",
       "      <td>0</td>\n",
       "      <td>...</td>\n",
       "      <td>56</td>\n",
       "      <td>261</td>\n",
       "      <td>1</td>\n",
       "      <td>999</td>\n",
       "      <td>0</td>\n",
       "      <td>1.1</td>\n",
       "      <td>93.994</td>\n",
       "      <td>-36.4</td>\n",
       "      <td>4.857</td>\n",
       "      <td>5191.0</td>\n",
       "    </tr>\n",
       "    <tr>\n",
       "      <th>1</th>\n",
       "      <td>0</td>\n",
       "      <td>0</td>\n",
       "      <td>0</td>\n",
       "      <td>0</td>\n",
       "      <td>0</td>\n",
       "      <td>0</td>\n",
       "      <td>1</td>\n",
       "      <td>0</td>\n",
       "      <td>0</td>\n",
       "      <td>0</td>\n",
       "      <td>...</td>\n",
       "      <td>57</td>\n",
       "      <td>149</td>\n",
       "      <td>1</td>\n",
       "      <td>999</td>\n",
       "      <td>0</td>\n",
       "      <td>1.1</td>\n",
       "      <td>93.994</td>\n",
       "      <td>-36.4</td>\n",
       "      <td>4.857</td>\n",
       "      <td>5191.0</td>\n",
       "    </tr>\n",
       "    <tr>\n",
       "      <th>2</th>\n",
       "      <td>0</td>\n",
       "      <td>0</td>\n",
       "      <td>0</td>\n",
       "      <td>0</td>\n",
       "      <td>0</td>\n",
       "      <td>0</td>\n",
       "      <td>1</td>\n",
       "      <td>0</td>\n",
       "      <td>0</td>\n",
       "      <td>0</td>\n",
       "      <td>...</td>\n",
       "      <td>37</td>\n",
       "      <td>226</td>\n",
       "      <td>1</td>\n",
       "      <td>999</td>\n",
       "      <td>0</td>\n",
       "      <td>1.1</td>\n",
       "      <td>93.994</td>\n",
       "      <td>-36.4</td>\n",
       "      <td>4.857</td>\n",
       "      <td>5191.0</td>\n",
       "    </tr>\n",
       "    <tr>\n",
       "      <th>3</th>\n",
       "      <td>0</td>\n",
       "      <td>0</td>\n",
       "      <td>0</td>\n",
       "      <td>0</td>\n",
       "      <td>0</td>\n",
       "      <td>0</td>\n",
       "      <td>0</td>\n",
       "      <td>0</td>\n",
       "      <td>0</td>\n",
       "      <td>0</td>\n",
       "      <td>...</td>\n",
       "      <td>40</td>\n",
       "      <td>151</td>\n",
       "      <td>1</td>\n",
       "      <td>999</td>\n",
       "      <td>0</td>\n",
       "      <td>1.1</td>\n",
       "      <td>93.994</td>\n",
       "      <td>-36.4</td>\n",
       "      <td>4.857</td>\n",
       "      <td>5191.0</td>\n",
       "    </tr>\n",
       "    <tr>\n",
       "      <th>4</th>\n",
       "      <td>0</td>\n",
       "      <td>0</td>\n",
       "      <td>0</td>\n",
       "      <td>0</td>\n",
       "      <td>0</td>\n",
       "      <td>0</td>\n",
       "      <td>1</td>\n",
       "      <td>0</td>\n",
       "      <td>0</td>\n",
       "      <td>0</td>\n",
       "      <td>...</td>\n",
       "      <td>56</td>\n",
       "      <td>307</td>\n",
       "      <td>1</td>\n",
       "      <td>999</td>\n",
       "      <td>0</td>\n",
       "      <td>1.1</td>\n",
       "      <td>93.994</td>\n",
       "      <td>-36.4</td>\n",
       "      <td>4.857</td>\n",
       "      <td>5191.0</td>\n",
       "    </tr>\n",
       "    <tr>\n",
       "      <th>...</th>\n",
       "      <td>...</td>\n",
       "      <td>...</td>\n",
       "      <td>...</td>\n",
       "      <td>...</td>\n",
       "      <td>...</td>\n",
       "      <td>...</td>\n",
       "      <td>...</td>\n",
       "      <td>...</td>\n",
       "      <td>...</td>\n",
       "      <td>...</td>\n",
       "      <td>...</td>\n",
       "      <td>...</td>\n",
       "      <td>...</td>\n",
       "      <td>...</td>\n",
       "      <td>...</td>\n",
       "      <td>...</td>\n",
       "      <td>...</td>\n",
       "      <td>...</td>\n",
       "      <td>...</td>\n",
       "      <td>...</td>\n",
       "      <td>...</td>\n",
       "    </tr>\n",
       "    <tr>\n",
       "      <th>41183</th>\n",
       "      <td>0</td>\n",
       "      <td>0</td>\n",
       "      <td>0</td>\n",
       "      <td>0</td>\n",
       "      <td>1</td>\n",
       "      <td>0</td>\n",
       "      <td>0</td>\n",
       "      <td>0</td>\n",
       "      <td>0</td>\n",
       "      <td>0</td>\n",
       "      <td>...</td>\n",
       "      <td>73</td>\n",
       "      <td>334</td>\n",
       "      <td>1</td>\n",
       "      <td>999</td>\n",
       "      <td>0</td>\n",
       "      <td>-1.1</td>\n",
       "      <td>94.767</td>\n",
       "      <td>-50.8</td>\n",
       "      <td>1.028</td>\n",
       "      <td>4963.6</td>\n",
       "    </tr>\n",
       "    <tr>\n",
       "      <th>41184</th>\n",
       "      <td>1</td>\n",
       "      <td>0</td>\n",
       "      <td>0</td>\n",
       "      <td>0</td>\n",
       "      <td>0</td>\n",
       "      <td>0</td>\n",
       "      <td>0</td>\n",
       "      <td>0</td>\n",
       "      <td>0</td>\n",
       "      <td>0</td>\n",
       "      <td>...</td>\n",
       "      <td>46</td>\n",
       "      <td>383</td>\n",
       "      <td>1</td>\n",
       "      <td>999</td>\n",
       "      <td>0</td>\n",
       "      <td>-1.1</td>\n",
       "      <td>94.767</td>\n",
       "      <td>-50.8</td>\n",
       "      <td>1.028</td>\n",
       "      <td>4963.6</td>\n",
       "    </tr>\n",
       "    <tr>\n",
       "      <th>41185</th>\n",
       "      <td>0</td>\n",
       "      <td>0</td>\n",
       "      <td>0</td>\n",
       "      <td>0</td>\n",
       "      <td>1</td>\n",
       "      <td>0</td>\n",
       "      <td>0</td>\n",
       "      <td>0</td>\n",
       "      <td>0</td>\n",
       "      <td>0</td>\n",
       "      <td>...</td>\n",
       "      <td>56</td>\n",
       "      <td>189</td>\n",
       "      <td>2</td>\n",
       "      <td>999</td>\n",
       "      <td>0</td>\n",
       "      <td>-1.1</td>\n",
       "      <td>94.767</td>\n",
       "      <td>-50.8</td>\n",
       "      <td>1.028</td>\n",
       "      <td>4963.6</td>\n",
       "    </tr>\n",
       "    <tr>\n",
       "      <th>41186</th>\n",
       "      <td>0</td>\n",
       "      <td>0</td>\n",
       "      <td>0</td>\n",
       "      <td>0</td>\n",
       "      <td>0</td>\n",
       "      <td>0</td>\n",
       "      <td>0</td>\n",
       "      <td>0</td>\n",
       "      <td>1</td>\n",
       "      <td>0</td>\n",
       "      <td>...</td>\n",
       "      <td>44</td>\n",
       "      <td>442</td>\n",
       "      <td>1</td>\n",
       "      <td>999</td>\n",
       "      <td>0</td>\n",
       "      <td>-1.1</td>\n",
       "      <td>94.767</td>\n",
       "      <td>-50.8</td>\n",
       "      <td>1.028</td>\n",
       "      <td>4963.6</td>\n",
       "    </tr>\n",
       "    <tr>\n",
       "      <th>41187</th>\n",
       "      <td>0</td>\n",
       "      <td>0</td>\n",
       "      <td>0</td>\n",
       "      <td>0</td>\n",
       "      <td>1</td>\n",
       "      <td>0</td>\n",
       "      <td>0</td>\n",
       "      <td>0</td>\n",
       "      <td>0</td>\n",
       "      <td>0</td>\n",
       "      <td>...</td>\n",
       "      <td>74</td>\n",
       "      <td>239</td>\n",
       "      <td>3</td>\n",
       "      <td>999</td>\n",
       "      <td>1</td>\n",
       "      <td>-1.1</td>\n",
       "      <td>94.767</td>\n",
       "      <td>-50.8</td>\n",
       "      <td>1.028</td>\n",
       "      <td>4963.6</td>\n",
       "    </tr>\n",
       "  </tbody>\n",
       "</table>\n",
       "<p>41188 rows × 53 columns</p>\n",
       "</div>"
      ],
      "text/plain": [
       "       job_blue-collar  job_entrepreneur  job_housemaid  job_management  \\\n",
       "0                    0                 0              1               0   \n",
       "1                    0                 0              0               0   \n",
       "2                    0                 0              0               0   \n",
       "3                    0                 0              0               0   \n",
       "4                    0                 0              0               0   \n",
       "...                ...               ...            ...             ...   \n",
       "41183                0                 0              0               0   \n",
       "41184                1                 0              0               0   \n",
       "41185                0                 0              0               0   \n",
       "41186                0                 0              0               0   \n",
       "41187                0                 0              0               0   \n",
       "\n",
       "       job_retired  job_self-employed  job_services  job_student  \\\n",
       "0                0                  0             0            0   \n",
       "1                0                  0             1            0   \n",
       "2                0                  0             1            0   \n",
       "3                0                  0             0            0   \n",
       "4                0                  0             1            0   \n",
       "...            ...                ...           ...          ...   \n",
       "41183            1                  0             0            0   \n",
       "41184            0                  0             0            0   \n",
       "41185            1                  0             0            0   \n",
       "41186            0                  0             0            0   \n",
       "41187            1                  0             0            0   \n",
       "\n",
       "       job_technician  job_unemployed  ...  age  duration  campaign  pdays  \\\n",
       "0                   0               0  ...   56       261         1    999   \n",
       "1                   0               0  ...   57       149         1    999   \n",
       "2                   0               0  ...   37       226         1    999   \n",
       "3                   0               0  ...   40       151         1    999   \n",
       "4                   0               0  ...   56       307         1    999   \n",
       "...               ...             ...  ...  ...       ...       ...    ...   \n",
       "41183               0               0  ...   73       334         1    999   \n",
       "41184               0               0  ...   46       383         1    999   \n",
       "41185               0               0  ...   56       189         2    999   \n",
       "41186               1               0  ...   44       442         1    999   \n",
       "41187               0               0  ...   74       239         3    999   \n",
       "\n",
       "       previous  emp.var.rate  cons.price.idx  cons.conf.idx  euribor3m  \\\n",
       "0             0           1.1          93.994          -36.4      4.857   \n",
       "1             0           1.1          93.994          -36.4      4.857   \n",
       "2             0           1.1          93.994          -36.4      4.857   \n",
       "3             0           1.1          93.994          -36.4      4.857   \n",
       "4             0           1.1          93.994          -36.4      4.857   \n",
       "...         ...           ...             ...            ...        ...   \n",
       "41183         0          -1.1          94.767          -50.8      1.028   \n",
       "41184         0          -1.1          94.767          -50.8      1.028   \n",
       "41185         0          -1.1          94.767          -50.8      1.028   \n",
       "41186         0          -1.1          94.767          -50.8      1.028   \n",
       "41187         1          -1.1          94.767          -50.8      1.028   \n",
       "\n",
       "       nr.employed  \n",
       "0           5191.0  \n",
       "1           5191.0  \n",
       "2           5191.0  \n",
       "3           5191.0  \n",
       "4           5191.0  \n",
       "...            ...  \n",
       "41183       4963.6  \n",
       "41184       4963.6  \n",
       "41185       4963.6  \n",
       "41186       4963.6  \n",
       "41187       4963.6  \n",
       "\n",
       "[41188 rows x 53 columns]"
      ]
     },
     "execution_count": 33,
     "metadata": {},
     "output_type": "execute_result"
    }
   ],
   "source": [
    "df_final=pd.concat([df_cat_dummy,df_num],axis=1)\n",
    "df_final"
   ]
  },
  {
   "cell_type": "markdown",
   "id": "ecfab961",
   "metadata": {},
   "source": [
    "**standardise the data**"
   ]
  },
  {
   "cell_type": "code",
   "execution_count": 34,
   "id": "879864a8",
   "metadata": {
    "ExecuteTime": {
     "end_time": "2021-11-13T18:46:06.977376Z",
     "start_time": "2021-11-13T18:46:06.915068Z"
    }
   },
   "outputs": [
    {
     "data": {
      "text/html": [
       "<div>\n",
       "<style scoped>\n",
       "    .dataframe tbody tr th:only-of-type {\n",
       "        vertical-align: middle;\n",
       "    }\n",
       "\n",
       "    .dataframe tbody tr th {\n",
       "        vertical-align: top;\n",
       "    }\n",
       "\n",
       "    .dataframe thead th {\n",
       "        text-align: right;\n",
       "    }\n",
       "</style>\n",
       "<table border=\"1\" class=\"dataframe\">\n",
       "  <thead>\n",
       "    <tr style=\"text-align: right;\">\n",
       "      <th></th>\n",
       "      <th>job_blue-collar</th>\n",
       "      <th>job_entrepreneur</th>\n",
       "      <th>job_housemaid</th>\n",
       "      <th>job_management</th>\n",
       "      <th>job_retired</th>\n",
       "      <th>job_self-employed</th>\n",
       "      <th>job_services</th>\n",
       "      <th>job_student</th>\n",
       "      <th>job_technician</th>\n",
       "      <th>job_unemployed</th>\n",
       "      <th>...</th>\n",
       "      <th>age</th>\n",
       "      <th>duration</th>\n",
       "      <th>campaign</th>\n",
       "      <th>pdays</th>\n",
       "      <th>previous</th>\n",
       "      <th>emp.var.rate</th>\n",
       "      <th>cons.price.idx</th>\n",
       "      <th>cons.conf.idx</th>\n",
       "      <th>euribor3m</th>\n",
       "      <th>nr.employed</th>\n",
       "    </tr>\n",
       "  </thead>\n",
       "  <tbody>\n",
       "    <tr>\n",
       "      <th>0</th>\n",
       "      <td>-0.538310</td>\n",
       "      <td>-0.191428</td>\n",
       "      <td>6.152697</td>\n",
       "      <td>-0.276432</td>\n",
       "      <td>-0.208755</td>\n",
       "      <td>-0.18903</td>\n",
       "      <td>-0.326552</td>\n",
       "      <td>-0.147325</td>\n",
       "      <td>-0.442444</td>\n",
       "      <td>-0.15887</td>\n",
       "      <td>...</td>\n",
       "      <td>1.533016</td>\n",
       "      <td>0.010471</td>\n",
       "      <td>-0.565915</td>\n",
       "      <td>0.195412</td>\n",
       "      <td>-0.349490</td>\n",
       "      <td>0.648084</td>\n",
       "      <td>0.722714</td>\n",
       "      <td>0.886436</td>\n",
       "      <td>0.712451</td>\n",
       "      <td>0.331676</td>\n",
       "    </tr>\n",
       "    <tr>\n",
       "      <th>1</th>\n",
       "      <td>-0.538310</td>\n",
       "      <td>-0.191428</td>\n",
       "      <td>-0.162526</td>\n",
       "      <td>-0.276432</td>\n",
       "      <td>-0.208755</td>\n",
       "      <td>-0.18903</td>\n",
       "      <td>3.062221</td>\n",
       "      <td>-0.147325</td>\n",
       "      <td>-0.442444</td>\n",
       "      <td>-0.15887</td>\n",
       "      <td>...</td>\n",
       "      <td>1.628973</td>\n",
       "      <td>-0.421495</td>\n",
       "      <td>-0.565915</td>\n",
       "      <td>0.195412</td>\n",
       "      <td>-0.349490</td>\n",
       "      <td>0.648084</td>\n",
       "      <td>0.722714</td>\n",
       "      <td>0.886436</td>\n",
       "      <td>0.712451</td>\n",
       "      <td>0.331676</td>\n",
       "    </tr>\n",
       "    <tr>\n",
       "      <th>2</th>\n",
       "      <td>-0.538310</td>\n",
       "      <td>-0.191428</td>\n",
       "      <td>-0.162526</td>\n",
       "      <td>-0.276432</td>\n",
       "      <td>-0.208755</td>\n",
       "      <td>-0.18903</td>\n",
       "      <td>3.062221</td>\n",
       "      <td>-0.147325</td>\n",
       "      <td>-0.442444</td>\n",
       "      <td>-0.15887</td>\n",
       "      <td>...</td>\n",
       "      <td>-0.290182</td>\n",
       "      <td>-0.124518</td>\n",
       "      <td>-0.565915</td>\n",
       "      <td>0.195412</td>\n",
       "      <td>-0.349490</td>\n",
       "      <td>0.648084</td>\n",
       "      <td>0.722714</td>\n",
       "      <td>0.886436</td>\n",
       "      <td>0.712451</td>\n",
       "      <td>0.331676</td>\n",
       "    </tr>\n",
       "    <tr>\n",
       "      <th>3</th>\n",
       "      <td>-0.538310</td>\n",
       "      <td>-0.191428</td>\n",
       "      <td>-0.162526</td>\n",
       "      <td>-0.276432</td>\n",
       "      <td>-0.208755</td>\n",
       "      <td>-0.18903</td>\n",
       "      <td>-0.326552</td>\n",
       "      <td>-0.147325</td>\n",
       "      <td>-0.442444</td>\n",
       "      <td>-0.15887</td>\n",
       "      <td>...</td>\n",
       "      <td>-0.002309</td>\n",
       "      <td>-0.413782</td>\n",
       "      <td>-0.565915</td>\n",
       "      <td>0.195412</td>\n",
       "      <td>-0.349490</td>\n",
       "      <td>0.648084</td>\n",
       "      <td>0.722714</td>\n",
       "      <td>0.886436</td>\n",
       "      <td>0.712451</td>\n",
       "      <td>0.331676</td>\n",
       "    </tr>\n",
       "    <tr>\n",
       "      <th>4</th>\n",
       "      <td>-0.538310</td>\n",
       "      <td>-0.191428</td>\n",
       "      <td>-0.162526</td>\n",
       "      <td>-0.276432</td>\n",
       "      <td>-0.208755</td>\n",
       "      <td>-0.18903</td>\n",
       "      <td>3.062221</td>\n",
       "      <td>-0.147325</td>\n",
       "      <td>-0.442444</td>\n",
       "      <td>-0.15887</td>\n",
       "      <td>...</td>\n",
       "      <td>1.533016</td>\n",
       "      <td>0.187886</td>\n",
       "      <td>-0.565915</td>\n",
       "      <td>0.195412</td>\n",
       "      <td>-0.349490</td>\n",
       "      <td>0.648084</td>\n",
       "      <td>0.722714</td>\n",
       "      <td>0.886436</td>\n",
       "      <td>0.712451</td>\n",
       "      <td>0.331676</td>\n",
       "    </tr>\n",
       "    <tr>\n",
       "      <th>...</th>\n",
       "      <td>...</td>\n",
       "      <td>...</td>\n",
       "      <td>...</td>\n",
       "      <td>...</td>\n",
       "      <td>...</td>\n",
       "      <td>...</td>\n",
       "      <td>...</td>\n",
       "      <td>...</td>\n",
       "      <td>...</td>\n",
       "      <td>...</td>\n",
       "      <td>...</td>\n",
       "      <td>...</td>\n",
       "      <td>...</td>\n",
       "      <td>...</td>\n",
       "      <td>...</td>\n",
       "      <td>...</td>\n",
       "      <td>...</td>\n",
       "      <td>...</td>\n",
       "      <td>...</td>\n",
       "      <td>...</td>\n",
       "      <td>...</td>\n",
       "    </tr>\n",
       "    <tr>\n",
       "      <th>41183</th>\n",
       "      <td>-0.538310</td>\n",
       "      <td>-0.191428</td>\n",
       "      <td>-0.162526</td>\n",
       "      <td>-0.276432</td>\n",
       "      <td>4.790194</td>\n",
       "      <td>-0.18903</td>\n",
       "      <td>-0.326552</td>\n",
       "      <td>-0.147325</td>\n",
       "      <td>-0.442444</td>\n",
       "      <td>-0.15887</td>\n",
       "      <td>...</td>\n",
       "      <td>3.164298</td>\n",
       "      <td>0.292021</td>\n",
       "      <td>-0.565915</td>\n",
       "      <td>0.195412</td>\n",
       "      <td>-0.349490</td>\n",
       "      <td>-0.752333</td>\n",
       "      <td>2.058143</td>\n",
       "      <td>-2.224926</td>\n",
       "      <td>-1.495168</td>\n",
       "      <td>-2.815662</td>\n",
       "    </tr>\n",
       "    <tr>\n",
       "      <th>41184</th>\n",
       "      <td>1.857619</td>\n",
       "      <td>-0.191428</td>\n",
       "      <td>-0.162526</td>\n",
       "      <td>-0.276432</td>\n",
       "      <td>-0.208755</td>\n",
       "      <td>-0.18903</td>\n",
       "      <td>-0.326552</td>\n",
       "      <td>-0.147325</td>\n",
       "      <td>-0.442444</td>\n",
       "      <td>-0.15887</td>\n",
       "      <td>...</td>\n",
       "      <td>0.573438</td>\n",
       "      <td>0.481006</td>\n",
       "      <td>-0.565915</td>\n",
       "      <td>0.195412</td>\n",
       "      <td>-0.349490</td>\n",
       "      <td>-0.752333</td>\n",
       "      <td>2.058143</td>\n",
       "      <td>-2.224926</td>\n",
       "      <td>-1.495168</td>\n",
       "      <td>-2.815662</td>\n",
       "    </tr>\n",
       "    <tr>\n",
       "      <th>41185</th>\n",
       "      <td>-0.538310</td>\n",
       "      <td>-0.191428</td>\n",
       "      <td>-0.162526</td>\n",
       "      <td>-0.276432</td>\n",
       "      <td>4.790194</td>\n",
       "      <td>-0.18903</td>\n",
       "      <td>-0.326552</td>\n",
       "      <td>-0.147325</td>\n",
       "      <td>-0.442444</td>\n",
       "      <td>-0.15887</td>\n",
       "      <td>...</td>\n",
       "      <td>1.533016</td>\n",
       "      <td>-0.267222</td>\n",
       "      <td>-0.204906</td>\n",
       "      <td>0.195412</td>\n",
       "      <td>-0.349490</td>\n",
       "      <td>-0.752333</td>\n",
       "      <td>2.058143</td>\n",
       "      <td>-2.224926</td>\n",
       "      <td>-1.495168</td>\n",
       "      <td>-2.815662</td>\n",
       "    </tr>\n",
       "    <tr>\n",
       "      <th>41186</th>\n",
       "      <td>-0.538310</td>\n",
       "      <td>-0.191428</td>\n",
       "      <td>-0.162526</td>\n",
       "      <td>-0.276432</td>\n",
       "      <td>-0.208755</td>\n",
       "      <td>-0.18903</td>\n",
       "      <td>-0.326552</td>\n",
       "      <td>-0.147325</td>\n",
       "      <td>2.260119</td>\n",
       "      <td>-0.15887</td>\n",
       "      <td>...</td>\n",
       "      <td>0.381522</td>\n",
       "      <td>0.708560</td>\n",
       "      <td>-0.565915</td>\n",
       "      <td>0.195412</td>\n",
       "      <td>-0.349490</td>\n",
       "      <td>-0.752333</td>\n",
       "      <td>2.058143</td>\n",
       "      <td>-2.224926</td>\n",
       "      <td>-1.495168</td>\n",
       "      <td>-2.815662</td>\n",
       "    </tr>\n",
       "    <tr>\n",
       "      <th>41187</th>\n",
       "      <td>-0.538310</td>\n",
       "      <td>-0.191428</td>\n",
       "      <td>-0.162526</td>\n",
       "      <td>-0.276432</td>\n",
       "      <td>4.790194</td>\n",
       "      <td>-0.18903</td>\n",
       "      <td>-0.326552</td>\n",
       "      <td>-0.147325</td>\n",
       "      <td>-0.442444</td>\n",
       "      <td>-0.15887</td>\n",
       "      <td>...</td>\n",
       "      <td>3.260256</td>\n",
       "      <td>-0.074379</td>\n",
       "      <td>0.156103</td>\n",
       "      <td>0.195412</td>\n",
       "      <td>1.671116</td>\n",
       "      <td>-0.752333</td>\n",
       "      <td>2.058143</td>\n",
       "      <td>-2.224926</td>\n",
       "      <td>-1.495168</td>\n",
       "      <td>-2.815662</td>\n",
       "    </tr>\n",
       "  </tbody>\n",
       "</table>\n",
       "<p>41188 rows × 53 columns</p>\n",
       "</div>"
      ],
      "text/plain": [
       "       job_blue-collar  job_entrepreneur  job_housemaid  job_management  \\\n",
       "0            -0.538310         -0.191428       6.152697       -0.276432   \n",
       "1            -0.538310         -0.191428      -0.162526       -0.276432   \n",
       "2            -0.538310         -0.191428      -0.162526       -0.276432   \n",
       "3            -0.538310         -0.191428      -0.162526       -0.276432   \n",
       "4            -0.538310         -0.191428      -0.162526       -0.276432   \n",
       "...                ...               ...            ...             ...   \n",
       "41183        -0.538310         -0.191428      -0.162526       -0.276432   \n",
       "41184         1.857619         -0.191428      -0.162526       -0.276432   \n",
       "41185        -0.538310         -0.191428      -0.162526       -0.276432   \n",
       "41186        -0.538310         -0.191428      -0.162526       -0.276432   \n",
       "41187        -0.538310         -0.191428      -0.162526       -0.276432   \n",
       "\n",
       "       job_retired  job_self-employed  job_services  job_student  \\\n",
       "0        -0.208755           -0.18903     -0.326552    -0.147325   \n",
       "1        -0.208755           -0.18903      3.062221    -0.147325   \n",
       "2        -0.208755           -0.18903      3.062221    -0.147325   \n",
       "3        -0.208755           -0.18903     -0.326552    -0.147325   \n",
       "4        -0.208755           -0.18903      3.062221    -0.147325   \n",
       "...            ...                ...           ...          ...   \n",
       "41183     4.790194           -0.18903     -0.326552    -0.147325   \n",
       "41184    -0.208755           -0.18903     -0.326552    -0.147325   \n",
       "41185     4.790194           -0.18903     -0.326552    -0.147325   \n",
       "41186    -0.208755           -0.18903     -0.326552    -0.147325   \n",
       "41187     4.790194           -0.18903     -0.326552    -0.147325   \n",
       "\n",
       "       job_technician  job_unemployed  ...       age  duration  campaign  \\\n",
       "0           -0.442444        -0.15887  ...  1.533016  0.010471 -0.565915   \n",
       "1           -0.442444        -0.15887  ...  1.628973 -0.421495 -0.565915   \n",
       "2           -0.442444        -0.15887  ... -0.290182 -0.124518 -0.565915   \n",
       "3           -0.442444        -0.15887  ... -0.002309 -0.413782 -0.565915   \n",
       "4           -0.442444        -0.15887  ...  1.533016  0.187886 -0.565915   \n",
       "...               ...             ...  ...       ...       ...       ...   \n",
       "41183       -0.442444        -0.15887  ...  3.164298  0.292021 -0.565915   \n",
       "41184       -0.442444        -0.15887  ...  0.573438  0.481006 -0.565915   \n",
       "41185       -0.442444        -0.15887  ...  1.533016 -0.267222 -0.204906   \n",
       "41186        2.260119        -0.15887  ...  0.381522  0.708560 -0.565915   \n",
       "41187       -0.442444        -0.15887  ...  3.260256 -0.074379  0.156103   \n",
       "\n",
       "          pdays  previous  emp.var.rate  cons.price.idx  cons.conf.idx  \\\n",
       "0      0.195412 -0.349490      0.648084        0.722714       0.886436   \n",
       "1      0.195412 -0.349490      0.648084        0.722714       0.886436   \n",
       "2      0.195412 -0.349490      0.648084        0.722714       0.886436   \n",
       "3      0.195412 -0.349490      0.648084        0.722714       0.886436   \n",
       "4      0.195412 -0.349490      0.648084        0.722714       0.886436   \n",
       "...         ...       ...           ...             ...            ...   \n",
       "41183  0.195412 -0.349490     -0.752333        2.058143      -2.224926   \n",
       "41184  0.195412 -0.349490     -0.752333        2.058143      -2.224926   \n",
       "41185  0.195412 -0.349490     -0.752333        2.058143      -2.224926   \n",
       "41186  0.195412 -0.349490     -0.752333        2.058143      -2.224926   \n",
       "41187  0.195412  1.671116     -0.752333        2.058143      -2.224926   \n",
       "\n",
       "       euribor3m  nr.employed  \n",
       "0       0.712451     0.331676  \n",
       "1       0.712451     0.331676  \n",
       "2       0.712451     0.331676  \n",
       "3       0.712451     0.331676  \n",
       "4       0.712451     0.331676  \n",
       "...          ...          ...  \n",
       "41183  -1.495168    -2.815662  \n",
       "41184  -1.495168    -2.815662  \n",
       "41185  -1.495168    -2.815662  \n",
       "41186  -1.495168    -2.815662  \n",
       "41187  -1.495168    -2.815662  \n",
       "\n",
       "[41188 rows x 53 columns]"
      ]
     },
     "execution_count": 34,
     "metadata": {},
     "output_type": "execute_result"
    }
   ],
   "source": [
    "df_finalized = df_final.apply(lambda rec: (rec - rec.mean()) / rec.std())\n",
    "df_finalized"
   ]
  },
  {
   "cell_type": "code",
   "execution_count": 35,
   "id": "eba9238c",
   "metadata": {
    "ExecuteTime": {
     "end_time": "2021-11-13T18:46:06.981403Z",
     "start_time": "2021-11-13T18:46:06.978368Z"
    }
   },
   "outputs": [
    {
     "data": {
      "text/plain": [
       "0        0\n",
       "1        0\n",
       "2        0\n",
       "3        0\n",
       "4        0\n",
       "        ..\n",
       "41183    1\n",
       "41184    0\n",
       "41185    0\n",
       "41186    1\n",
       "41187    0\n",
       "Name: target, Length: 41188, dtype: int64"
      ]
     },
     "execution_count": 35,
     "metadata": {},
     "output_type": "execute_result"
    }
   ],
   "source": [
    "df_target"
   ]
  },
  {
   "cell_type": "markdown",
   "id": "c0b01a46",
   "metadata": {
    "ExecuteTime": {
     "end_time": "2021-11-13T15:27:50.878267Z",
     "start_time": "2021-11-13T15:27:50.870293Z"
    }
   },
   "source": [
    "# splitting the data into training and testing"
   ]
  },
  {
   "cell_type": "code",
   "execution_count": 36,
   "id": "937739ab",
   "metadata": {
    "ExecuteTime": {
     "end_time": "2021-11-13T18:46:08.612003Z",
     "start_time": "2021-11-13T18:46:06.982345Z"
    }
   },
   "outputs": [
    {
     "name": "stdout",
     "output_type": "stream",
     "text": [
      "The shape of X_train is: (28831, 53)\n",
      "The shape of X_test is: (12357, 53)\n",
      "The shape of y_train is: (28831,)\n",
      "The shape of y_test is: (12357,)\n"
     ]
    },
    {
     "name": "stderr",
     "output_type": "stream",
     "text": [
      "[Parallel(n_jobs=1)]: Using backend SequentialBackend with 1 concurrent workers.\n",
      "[Parallel(n_jobs=1)]: Done 200 out of 200 | elapsed:    1.2s finished\n",
      "[Parallel(n_jobs=1)]: Using backend SequentialBackend with 1 concurrent workers.\n"
     ]
    },
    {
     "name": "stdout",
     "output_type": "stream",
     "text": [
      "AUC Train: 0.9178\n",
      "AUC Valid: 0.9177\n"
     ]
    },
    {
     "name": "stderr",
     "output_type": "stream",
     "text": [
      "[Parallel(n_jobs=1)]: Done 200 out of 200 | elapsed:    0.3s finished\n",
      "[Parallel(n_jobs=1)]: Using backend SequentialBackend with 1 concurrent workers.\n",
      "[Parallel(n_jobs=1)]: Done 200 out of 200 | elapsed:    0.1s finished\n"
     ]
    }
   ],
   "source": [
    "# split data into train subset and test subset for predictor and target variables\n",
    "# 'test_size' returns the proportion of data to be included in the test set\n",
    "# set 'random_state' to generate the same dataset each time you run the code\n",
    "from sklearn.metrics import roc_auc_score\n",
    "X_train, X_test, y_train, y_test = train_test_split(df_finalized, df_target, test_size = 0.3, random_state = 1)\n",
    "\n",
    "# check the dimensions of the train & test subset for\n",
    "# print dimension of predictors train set\n",
    "print(\"The shape of X_train is:\",X_train.shape)\n",
    "\n",
    "# print dimension of predictors test set\n",
    "print(\"The shape of X_test is:\",X_test.shape)\n",
    "\n",
    "# print dimension of target train set\n",
    "print(\"The shape of y_train is:\",y_train.shape)\n",
    "\n",
    "# print dimension of target test set\n",
    "print(\"The shape of y_test is:\",y_test.shape)\n",
    "\n",
    "\n",
    "num_trees = 200\n",
    "\n",
    "model_rf = RandomForestClassifier(n_estimators=num_trees,\n",
    "                                  max_depth=5,\n",
    "                                  min_samples_split = 0.01,\n",
    "                                  max_features = 'log2',\n",
    "                                  random_state = 0,\n",
    "                                  class_weight='balanced',\n",
    "                                  verbose = 1)\n",
    "model_rf.fit(X_train, y_train)\n",
    "\n",
    "\n",
    "\n",
    "y_train_pred = model_rf.predict_proba(X_train)[:,1]\n",
    "y_valid_pred = model_rf.predict_proba(X_test)[:,1]\n",
    "\n",
    "\n",
    "print(\"AUC Train: {:.4f}\\nAUC Valid: {:.4f}\".format(roc_auc_score(y_train, y_train_pred),\n",
    "                                                    roc_auc_score(y_test, y_valid_pred)))\n",
    "var_columns=X_train.columns\n",
    "feature_imp=pd.DataFrame({\"Variable_Name\":var_columns,\n",
    "              \"Importance\":model_rf.feature_importances_}) \\\n",
    "            .sort_values('Importance', ascending=False)"
   ]
  },
  {
   "cell_type": "markdown",
   "id": "f5f7ba31",
   "metadata": {},
   "source": [
    "## random forest"
   ]
  },
  {
   "cell_type": "code",
   "execution_count": 37,
   "id": "4955ae0d",
   "metadata": {
    "ExecuteTime": {
     "end_time": "2021-11-13T18:46:08.620409Z",
     "start_time": "2021-11-13T18:46:08.613047Z"
    }
   },
   "outputs": [
    {
     "data": {
      "text/html": [
       "<div>\n",
       "<style scoped>\n",
       "    .dataframe tbody tr th:only-of-type {\n",
       "        vertical-align: middle;\n",
       "    }\n",
       "\n",
       "    .dataframe tbody tr th {\n",
       "        vertical-align: top;\n",
       "    }\n",
       "\n",
       "    .dataframe thead th {\n",
       "        text-align: right;\n",
       "    }\n",
       "</style>\n",
       "<table border=\"1\" class=\"dataframe\">\n",
       "  <thead>\n",
       "    <tr style=\"text-align: right;\">\n",
       "      <th></th>\n",
       "      <th>Variable_Name</th>\n",
       "      <th>Importance</th>\n",
       "    </tr>\n",
       "  </thead>\n",
       "  <tbody>\n",
       "    <tr>\n",
       "      <th>44</th>\n",
       "      <td>duration</td>\n",
       "      <td>0.270583</td>\n",
       "    </tr>\n",
       "    <tr>\n",
       "      <th>52</th>\n",
       "      <td>nr.employed</td>\n",
       "      <td>0.154984</td>\n",
       "    </tr>\n",
       "    <tr>\n",
       "      <th>51</th>\n",
       "      <td>euribor3m</td>\n",
       "      <td>0.139428</td>\n",
       "    </tr>\n",
       "    <tr>\n",
       "      <th>48</th>\n",
       "      <td>emp.var.rate</td>\n",
       "      <td>0.102366</td>\n",
       "    </tr>\n",
       "    <tr>\n",
       "      <th>50</th>\n",
       "      <td>cons.conf.idx</td>\n",
       "      <td>0.058982</td>\n",
       "    </tr>\n",
       "    <tr>\n",
       "      <th>46</th>\n",
       "      <td>pdays</td>\n",
       "      <td>0.047986</td>\n",
       "    </tr>\n",
       "    <tr>\n",
       "      <th>42</th>\n",
       "      <td>poutcome_success</td>\n",
       "      <td>0.041473</td>\n",
       "    </tr>\n",
       "    <tr>\n",
       "      <th>49</th>\n",
       "      <td>cons.price.idx</td>\n",
       "      <td>0.035038</td>\n",
       "    </tr>\n",
       "    <tr>\n",
       "      <th>27</th>\n",
       "      <td>contact_telephone</td>\n",
       "      <td>0.027261</td>\n",
       "    </tr>\n",
       "    <tr>\n",
       "      <th>47</th>\n",
       "      <td>previous</td>\n",
       "      <td>0.018645</td>\n",
       "    </tr>\n",
       "    <tr>\n",
       "      <th>33</th>\n",
       "      <td>month_may</td>\n",
       "      <td>0.018358</td>\n",
       "    </tr>\n",
       "    <tr>\n",
       "      <th>41</th>\n",
       "      <td>poutcome_nonexistent</td>\n",
       "      <td>0.015727</td>\n",
       "    </tr>\n",
       "    <tr>\n",
       "      <th>43</th>\n",
       "      <td>age</td>\n",
       "      <td>0.012616</td>\n",
       "    </tr>\n",
       "    <tr>\n",
       "      <th>21</th>\n",
       "      <td>default_unknown</td>\n",
       "      <td>0.010580</td>\n",
       "    </tr>\n",
       "    <tr>\n",
       "      <th>35</th>\n",
       "      <td>month_oct</td>\n",
       "      <td>0.007589</td>\n",
       "    </tr>\n",
       "    <tr>\n",
       "      <th>32</th>\n",
       "      <td>month_mar</td>\n",
       "      <td>0.007501</td>\n",
       "    </tr>\n",
       "    <tr>\n",
       "      <th>36</th>\n",
       "      <td>month_sep</td>\n",
       "      <td>0.004962</td>\n",
       "    </tr>\n",
       "    <tr>\n",
       "      <th>0</th>\n",
       "      <td>job_blue-collar</td>\n",
       "      <td>0.003849</td>\n",
       "    </tr>\n",
       "    <tr>\n",
       "      <th>45</th>\n",
       "      <td>campaign</td>\n",
       "      <td>0.003240</td>\n",
       "    </tr>\n",
       "    <tr>\n",
       "      <th>7</th>\n",
       "      <td>job_student</td>\n",
       "      <td>0.002975</td>\n",
       "    </tr>\n",
       "    <tr>\n",
       "      <th>4</th>\n",
       "      <td>job_retired</td>\n",
       "      <td>0.002407</td>\n",
       "    </tr>\n",
       "    <tr>\n",
       "      <th>12</th>\n",
       "      <td>marital_single</td>\n",
       "      <td>0.002323</td>\n",
       "    </tr>\n",
       "    <tr>\n",
       "      <th>19</th>\n",
       "      <td>education_university.degree</td>\n",
       "      <td>0.001325</td>\n",
       "    </tr>\n",
       "    <tr>\n",
       "      <th>31</th>\n",
       "      <td>month_jun</td>\n",
       "      <td>0.001267</td>\n",
       "    </tr>\n",
       "    <tr>\n",
       "      <th>11</th>\n",
       "      <td>marital_married</td>\n",
       "      <td>0.001187</td>\n",
       "    </tr>\n",
       "    <tr>\n",
       "      <th>30</th>\n",
       "      <td>month_jul</td>\n",
       "      <td>0.001037</td>\n",
       "    </tr>\n",
       "    <tr>\n",
       "      <th>34</th>\n",
       "      <td>month_nov</td>\n",
       "      <td>0.000807</td>\n",
       "    </tr>\n",
       "    <tr>\n",
       "      <th>29</th>\n",
       "      <td>month_dec</td>\n",
       "      <td>0.000802</td>\n",
       "    </tr>\n",
       "    <tr>\n",
       "      <th>28</th>\n",
       "      <td>month_aug</td>\n",
       "      <td>0.000697</td>\n",
       "    </tr>\n",
       "    <tr>\n",
       "      <th>15</th>\n",
       "      <td>education_basic.9y</td>\n",
       "      <td>0.000495</td>\n",
       "    </tr>\n",
       "    <tr>\n",
       "      <th>6</th>\n",
       "      <td>job_services</td>\n",
       "      <td>0.000422</td>\n",
       "    </tr>\n",
       "    <tr>\n",
       "      <th>37</th>\n",
       "      <td>day_of_week_mon</td>\n",
       "      <td>0.000287</td>\n",
       "    </tr>\n",
       "    <tr>\n",
       "      <th>5</th>\n",
       "      <td>job_self-employed</td>\n",
       "      <td>0.000250</td>\n",
       "    </tr>\n",
       "    <tr>\n",
       "      <th>40</th>\n",
       "      <td>day_of_week_wed</td>\n",
       "      <td>0.000233</td>\n",
       "    </tr>\n",
       "    <tr>\n",
       "      <th>9</th>\n",
       "      <td>job_unemployed</td>\n",
       "      <td>0.000215</td>\n",
       "    </tr>\n",
       "    <tr>\n",
       "      <th>20</th>\n",
       "      <td>education_unknown</td>\n",
       "      <td>0.000199</td>\n",
       "    </tr>\n",
       "    <tr>\n",
       "      <th>39</th>\n",
       "      <td>day_of_week_tue</td>\n",
       "      <td>0.000198</td>\n",
       "    </tr>\n",
       "    <tr>\n",
       "      <th>14</th>\n",
       "      <td>education_basic.6y</td>\n",
       "      <td>0.000195</td>\n",
       "    </tr>\n",
       "    <tr>\n",
       "      <th>1</th>\n",
       "      <td>job_entrepreneur</td>\n",
       "      <td>0.000178</td>\n",
       "    </tr>\n",
       "    <tr>\n",
       "      <th>23</th>\n",
       "      <td>housing_unknown</td>\n",
       "      <td>0.000177</td>\n",
       "    </tr>\n",
       "    <tr>\n",
       "      <th>24</th>\n",
       "      <td>housing_yes</td>\n",
       "      <td>0.000128</td>\n",
       "    </tr>\n",
       "    <tr>\n",
       "      <th>13</th>\n",
       "      <td>marital_unknown</td>\n",
       "      <td>0.000123</td>\n",
       "    </tr>\n",
       "    <tr>\n",
       "      <th>3</th>\n",
       "      <td>job_management</td>\n",
       "      <td>0.000117</td>\n",
       "    </tr>\n",
       "    <tr>\n",
       "      <th>26</th>\n",
       "      <td>loan_yes</td>\n",
       "      <td>0.000111</td>\n",
       "    </tr>\n",
       "    <tr>\n",
       "      <th>18</th>\n",
       "      <td>education_professional.course</td>\n",
       "      <td>0.000109</td>\n",
       "    </tr>\n",
       "    <tr>\n",
       "      <th>38</th>\n",
       "      <td>day_of_week_thu</td>\n",
       "      <td>0.000102</td>\n",
       "    </tr>\n",
       "    <tr>\n",
       "      <th>8</th>\n",
       "      <td>job_technician</td>\n",
       "      <td>0.000090</td>\n",
       "    </tr>\n",
       "    <tr>\n",
       "      <th>25</th>\n",
       "      <td>loan_unknown</td>\n",
       "      <td>0.000082</td>\n",
       "    </tr>\n",
       "    <tr>\n",
       "      <th>10</th>\n",
       "      <td>job_unknown</td>\n",
       "      <td>0.000077</td>\n",
       "    </tr>\n",
       "    <tr>\n",
       "      <th>17</th>\n",
       "      <td>education_illiterate</td>\n",
       "      <td>0.000076</td>\n",
       "    </tr>\n",
       "    <tr>\n",
       "      <th>2</th>\n",
       "      <td>job_housemaid</td>\n",
       "      <td>0.000072</td>\n",
       "    </tr>\n",
       "    <tr>\n",
       "      <th>16</th>\n",
       "      <td>education_high.school</td>\n",
       "      <td>0.000066</td>\n",
       "    </tr>\n",
       "    <tr>\n",
       "      <th>22</th>\n",
       "      <td>default_yes</td>\n",
       "      <td>0.000000</td>\n",
       "    </tr>\n",
       "  </tbody>\n",
       "</table>\n",
       "</div>"
      ],
      "text/plain": [
       "                    Variable_Name  Importance\n",
       "44                       duration    0.270583\n",
       "52                    nr.employed    0.154984\n",
       "51                      euribor3m    0.139428\n",
       "48                   emp.var.rate    0.102366\n",
       "50                  cons.conf.idx    0.058982\n",
       "46                          pdays    0.047986\n",
       "42               poutcome_success    0.041473\n",
       "49                 cons.price.idx    0.035038\n",
       "27              contact_telephone    0.027261\n",
       "47                       previous    0.018645\n",
       "33                      month_may    0.018358\n",
       "41           poutcome_nonexistent    0.015727\n",
       "43                            age    0.012616\n",
       "21                default_unknown    0.010580\n",
       "35                      month_oct    0.007589\n",
       "32                      month_mar    0.007501\n",
       "36                      month_sep    0.004962\n",
       "0                 job_blue-collar    0.003849\n",
       "45                       campaign    0.003240\n",
       "7                     job_student    0.002975\n",
       "4                     job_retired    0.002407\n",
       "12                 marital_single    0.002323\n",
       "19    education_university.degree    0.001325\n",
       "31                      month_jun    0.001267\n",
       "11                marital_married    0.001187\n",
       "30                      month_jul    0.001037\n",
       "34                      month_nov    0.000807\n",
       "29                      month_dec    0.000802\n",
       "28                      month_aug    0.000697\n",
       "15             education_basic.9y    0.000495\n",
       "6                    job_services    0.000422\n",
       "37                day_of_week_mon    0.000287\n",
       "5               job_self-employed    0.000250\n",
       "40                day_of_week_wed    0.000233\n",
       "9                  job_unemployed    0.000215\n",
       "20              education_unknown    0.000199\n",
       "39                day_of_week_tue    0.000198\n",
       "14             education_basic.6y    0.000195\n",
       "1                job_entrepreneur    0.000178\n",
       "23                housing_unknown    0.000177\n",
       "24                    housing_yes    0.000128\n",
       "13                marital_unknown    0.000123\n",
       "3                  job_management    0.000117\n",
       "26                       loan_yes    0.000111\n",
       "18  education_professional.course    0.000109\n",
       "38                day_of_week_thu    0.000102\n",
       "8                  job_technician    0.000090\n",
       "25                   loan_unknown    0.000082\n",
       "10                    job_unknown    0.000077\n",
       "17           education_illiterate    0.000076\n",
       "2                   job_housemaid    0.000072\n",
       "16          education_high.school    0.000066\n",
       "22                    default_yes    0.000000"
      ]
     },
     "execution_count": 37,
     "metadata": {},
     "output_type": "execute_result"
    }
   ],
   "source": [
    "feature_imp"
   ]
  },
  {
   "cell_type": "markdown",
   "id": "27644d5b",
   "metadata": {},
   "source": [
    "## Logistic Regression"
   ]
  },
  {
   "cell_type": "code",
   "execution_count": 38,
   "id": "e8d91089",
   "metadata": {
    "ExecuteTime": {
     "end_time": "2021-11-13T18:46:08.633882Z",
     "start_time": "2021-11-13T18:46:08.621459Z"
    }
   },
   "outputs": [
    {
     "name": "stdout",
     "output_type": "stream",
     "text": [
      "X_train (24712, 53)\n",
      "y_train (24712,)\n",
      "X_test (16476, 53)\n",
      "y_test (16476,)\n"
     ]
    }
   ],
   "source": [
    "# split data into train subset and test subset\n",
    "# set 'random_state' to generate the same dataset each time you run the code \n",
    "# 'test_size' returns the proportion of data to be included in the test set\n",
    "X_train, X_test, y_train, y_test = train_test_split(df_finalized, df_target, test_size = 0.40, random_state = 1)\n",
    "\n",
    "# check the dimensions of the train & test subset using 'shape'\n",
    "# print dimension of train set\n",
    "print(\"X_train\",X_train.shape)\n",
    "print(\"y_train\",y_train.shape)\n",
    "\n",
    "# print dimension of test set\n",
    "print(\"X_test\",X_test.shape)\n",
    "print(\"y_test\",y_test.shape)"
   ]
  },
  {
   "cell_type": "code",
   "execution_count": 39,
   "id": "e66cea43",
   "metadata": {
    "ExecuteTime": {
     "end_time": "2021-11-13T18:46:08.636855Z",
     "start_time": "2021-11-13T18:46:08.634865Z"
    }
   },
   "outputs": [],
   "source": [
    "# create a generalized function to calculate the metrics values for test set\n",
    "def get_test_report(model):\n",
    "    \n",
    "    # return the performace measures on test set\n",
    "    return(classification_report(y_test, y_pred))"
   ]
  },
  {
   "cell_type": "code",
   "execution_count": 40,
   "id": "c0e766c7",
   "metadata": {
    "ExecuteTime": {
     "end_time": "2021-11-13T18:46:08.639727Z",
     "start_time": "2021-11-13T18:46:08.637829Z"
    }
   },
   "outputs": [],
   "source": [
    "# create a generalized function to calculate the metrics values for test set\n",
    "def kappa_score(model):\n",
    "    \n",
    "    # return the kappa score on test set\n",
    "    return(cohen_kappa_score(y_test, y_pred))"
   ]
  },
  {
   "cell_type": "code",
   "execution_count": 41,
   "id": "887877df",
   "metadata": {
    "ExecuteTime": {
     "end_time": "2021-11-13T18:46:08.643593Z",
     "start_time": "2021-11-13T18:46:08.640725Z"
    }
   },
   "outputs": [],
   "source": [
    "# define a to plot a confusion matrix for the model\n",
    "def plot_confusion_matrix(model):\n",
    "    \n",
    "    # create a confusion matrix\n",
    "    # pass the actual and predicted target values to the confusion_matrix()\n",
    "    cm = confusion_matrix(y_test, y_pred)\n",
    "\n",
    "    # label the confusion matrix  \n",
    "    # pass the matrix as 'data'\n",
    "    # pass the required column names to the parameter, 'columns'\n",
    "    # pass the required row names to the parameter, 'index'\n",
    "    conf_matrix = pd.DataFrame(data = cm,columns = ['Predicted:0','Predicted:1'], index = ['Actual:0','Actual:1'])\n",
    "\n",
    "    # plot a heatmap to visualize the confusion matrix\n",
    "    # 'annot' prints the value of each grid \n",
    "    # 'fmt = d' returns the integer value in each grid\n",
    "    # 'cmap' assigns color to each grid\n",
    "    # as we do not require different colors for each grid in the heatmap,\n",
    "    # use 'ListedColormap' to assign the specified color to the grid\n",
    "    # 'cbar = False' will not return the color bar to the right side of the heatmap\n",
    "    # 'linewidths' assigns the width to the line that divides each grid\n",
    "    # 'annot_kws = {'size':25})' assigns the font size of the annotated text \n",
    "    sns.heatmap(conf_matrix, annot = True, fmt = 'd', cmap = ListedColormap(['lightskyblue']), cbar = False, \n",
    "                linewidths = 0.1, annot_kws = {'size':25})\n",
    "\n",
    "    # set the font size of x-axis ticks using 'fontsize'\n",
    "    plt.xticks(fontsize = 20)\n",
    "\n",
    "    # set the font size of y-axis ticks using 'fontsize'\n",
    "    plt.yticks(fontsize = 20)\n",
    "\n",
    "    # display the plot\n",
    "    plt.show()"
   ]
  },
  {
   "cell_type": "markdown",
   "id": "7fed6731",
   "metadata": {
    "ExecuteTime": {
     "end_time": "2021-11-13T15:39:56.871567Z",
     "start_time": "2021-11-13T15:39:56.867426Z"
    }
   },
   "source": [
    "#### Define a function to plot the ROC curve."
   ]
  },
  {
   "cell_type": "code",
   "execution_count": 51,
   "id": "e8453c0a",
   "metadata": {
    "ExecuteTime": {
     "end_time": "2021-11-13T18:48:41.365163Z",
     "start_time": "2021-11-13T18:48:41.353083Z"
    }
   },
   "outputs": [],
   "source": [
    "# define a function to plot the ROC curve and print the ROC-AUC score\n",
    "def plot_roc(model):\n",
    "    \n",
    "    # the roc_curve() returns the values for false positive rate, true positive rate and threshold\n",
    "    # pass the actual target values and predicted probabilities to the function\n",
    "    fpr, tpr, thresholds = metrics.roc_curve(y_test, y_pred_prob)\n",
    "\n",
    "    # plot the ROC curve\n",
    "    plt.plot(fpr, tpr)\n",
    "\n",
    "    # set limits for x and y axes\n",
    "    plt.xlim([0.0, 1.0])\n",
    "    plt.ylim([0.0, 1.0])\n",
    "\n",
    "    # plot the straight line showing worst prediction for the model\n",
    "    plt.plot([0, 1], [0, 1],'r--')\n",
    "\n",
    "    # add plot and axes labels\n",
    "    # set text size using 'fontsize'\n",
    "    plt.title('ROC Curve for Target Classifier', fontsize = 15)\n",
    "    plt.xlabel('False positive rate (1-Specificity)', fontsize = 15)\n",
    "    plt.ylabel('True positive rate (Sensitivity)', fontsize = 15)\n",
    "\n",
    "    # add the AUC score to the plot\n",
    "    # 'x' and 'y' gives position of the text\n",
    "    # 's' is the text \n",
    "    # use round() to round-off the AUC score upto 4 digits\n",
    "    plt.text(x = 0.02, y = 0.9, s = ('AUC Score:',round(roc_auc_score(y_test, y_pred_prob),4)))\n",
    "\n",
    "    # plot the grid\n",
    "    plt.grid(True)"
   ]
  },
  {
   "cell_type": "markdown",
   "id": "e374cb9b",
   "metadata": {
    "ExecuteTime": {
     "end_time": "2021-11-13T15:40:27.083981Z",
     "start_time": "2021-11-13T15:40:27.081389Z"
    }
   },
   "source": [
    "#### Create a generalized function to create a dataframe containing the scores for the models."
   ]
  },
  {
   "cell_type": "code",
   "execution_count": 43,
   "id": "7a79f561",
   "metadata": {
    "ExecuteTime": {
     "end_time": "2021-11-13T18:46:08.653478Z",
     "start_time": "2021-11-13T18:46:08.649328Z"
    }
   },
   "outputs": [],
   "source": [
    "# create an empty dataframe to store the scores for various classification algorithms\n",
    "score_card = pd.DataFrame(columns=['Model', 'AUC Score', 'Precision Score', 'Recall Score', 'Accuracy Score',\n",
    "                                   'Kappa Score', 'f1-score'])\n",
    "\n",
    "# append the result table for all performance scores\n",
    "# performance measures considered for comparision are 'AUC', 'Precision', 'Recall','Accuracy','Kappa Score', and 'f1-score'\n",
    "# compile the required information in a user defined function \n",
    "def update_score_card(model_name):\n",
    "    \n",
    "    # assign 'score_card' as global variable\n",
    "    global score_card\n",
    "\n",
    "    # append the results to the dataframe 'score_card'\n",
    "    # 'ignore_index = True' do not consider the index labels\n",
    "    score_card = score_card.append({'Model': model_name,\n",
    "                                    'AUC Score' : roc_auc_score(y_test, y_pred_prob),\n",
    "                                    'Precision Score': metrics.precision_score(y_test, y_pred),\n",
    "                                    'Recall Score': metrics.recall_score(y_test, y_pred),\n",
    "                                    'Accuracy Score': metrics.accuracy_score(y_test, y_pred),\n",
    "                                    'Kappa Score': cohen_kappa_score(y_test, y_pred),\n",
    "                                    'f1-score': metrics.f1_score(y_test, y_pred)}, \n",
    "                                    ignore_index = True)\n",
    "    return(score_card)"
   ]
  },
  {
   "cell_type": "code",
   "execution_count": 44,
   "id": "f21bd3f7",
   "metadata": {
    "ExecuteTime": {
     "end_time": "2021-11-13T18:46:08.923242Z",
     "start_time": "2021-11-13T18:46:08.654558Z"
    }
   },
   "outputs": [],
   "source": [
    "# instantiate the 'SGDClassifier' to build model using SGD\n",
    "# to perform logistic regression, consider the log-loss function \n",
    "# set 'random_state' to generate the same dataset each time you run the code \n",
    "SGD = SGDClassifier(loss = 'log', random_state = 10)\n",
    "\n",
    "# fit the model on scaled training data\n",
    "logreg_with_SGD = SGD.fit(X_train, y_train)"
   ]
  },
  {
   "cell_type": "code",
   "execution_count": 45,
   "id": "c9bdaf8f",
   "metadata": {
    "ExecuteTime": {
     "end_time": "2021-11-13T18:46:08.930973Z",
     "start_time": "2021-11-13T18:46:08.924268Z"
    }
   },
   "outputs": [],
   "source": [
    "# predict probabilities on the test set\n",
    "# consider the probability of positive class by subsetting with '[:,1]'\n",
    "y_pred_prob = logreg_with_SGD.predict_proba(X_test)[:,1]"
   ]
  },
  {
   "cell_type": "code",
   "execution_count": 46,
   "id": "18a00aa5",
   "metadata": {
    "ExecuteTime": {
     "end_time": "2021-11-13T18:46:08.936089Z",
     "start_time": "2021-11-13T18:46:08.931971Z"
    }
   },
   "outputs": [],
   "source": [
    "# use predict() to predict the class labels of target variable\n",
    "y_pred = logreg_with_SGD.predict(X_test)"
   ]
  },
  {
   "cell_type": "code",
   "execution_count": 47,
   "id": "68db2af3",
   "metadata": {
    "ExecuteTime": {
     "end_time": "2021-11-13T18:46:08.995016Z",
     "start_time": "2021-11-13T18:46:08.937184Z"
    }
   },
   "outputs": [
    {
     "data": {
      "image/png": "[encoded data removed]",
      "text/plain": [
       "<Figure size 432x288 with 1 Axes>"
      ]
     },
     "metadata": {
      "needs_background": "light"
     },
     "output_type": "display_data"
    }
   ],
   "source": [
    "# call the function to plot the confusion matrix\n",
    "# pass the logistic regression (SGD) model to the function\n",
    "from sklearn.metrics import confusion_matrix\n",
    "\n",
    "from matplotlib.colors import ListedColormap\n",
    "\n",
    "\n",
    "plot_confusion_matrix(logreg_with_SGD)"
   ]
  },
  {
   "cell_type": "code",
   "execution_count": 48,
   "id": "4dd49e24",
   "metadata": {
    "ExecuteTime": {
     "end_time": "2021-11-13T18:46:09.009570Z",
     "start_time": "2021-11-13T18:46:08.996175Z"
    }
   },
   "outputs": [
    {
     "name": "stdout",
     "output_type": "stream",
     "text": [
      "              precision    recall  f1-score   support\n",
      "\n",
      "           0       0.92      0.98      0.95     14601\n",
      "           1       0.67      0.37      0.48      1875\n",
      "\n",
      "    accuracy                           0.91     16476\n",
      "   macro avg       0.80      0.67      0.71     16476\n",
      "weighted avg       0.89      0.91      0.90     16476\n",
      "\n"
     ]
    }
   ],
   "source": [
    "# compute the performance measures on test data\n",
    "# call the function 'get_test_report'\n",
    "# pass the logstic regression (SGD) model to the function\n",
    "test_report = get_test_report(logreg_with_SGD)\n",
    "\n",
    "# print the performace measures\n",
    "print(test_report)"
   ]
  },
  {
   "cell_type": "code",
   "execution_count": 49,
   "id": "7678f50c",
   "metadata": {
    "ExecuteTime": {
     "end_time": "2021-11-13T18:46:09.021139Z",
     "start_time": "2021-11-13T18:46:09.010779Z"
    }
   },
   "outputs": [
    {
     "name": "stdout",
     "output_type": "stream",
     "text": [
      "0.42991892661274145\n"
     ]
    }
   ],
   "source": [
    "# compute kappa score on test set\n",
    "# call the function 'kappa_score'\n",
    "# pass the logstic regression (SGD) model to the function\n",
    "from sklearn.metrics import cohen_kappa_score\n",
    "kappa_value = kappa_score(logreg_with_SGD)\n",
    "\n",
    "# print the kappa value\n",
    "print(kappa_value)"
   ]
  },
  {
   "cell_type": "code",
   "execution_count": 52,
   "id": "5e589bf3",
   "metadata": {
    "ExecuteTime": {
     "end_time": "2021-11-13T18:48:47.540687Z",
     "start_time": "2021-11-13T18:48:47.372598Z"
    }
   },
   "outputs": [
    {
     "data": {
      "image/png": "[encoded data removed]",
      "text/plain": [
       "<Figure size 432x288 with 1 Axes>"
      ]
     },
     "metadata": {
      "needs_background": "light"
     },
     "output_type": "display_data"
    }
   ],
   "source": [
    "# call the function 'plot_roc' to plot the ROC curve\n",
    "# pass the logstic regression (SGD) model to the function\n",
    "plot_roc(logreg_with_SGD)"
   ]
  },
  {
   "cell_type": "code",
   "execution_count": 119,
   "id": "0bc0a6bf",
   "metadata": {
    "ExecuteTime": {
     "end_time": "2021-11-13T15:55:16.427436Z",
     "start_time": "2021-11-13T15:55:16.368006Z"
    }
   },
   "outputs": [
    {
     "data": {
      "text/html": [
       "<div>\n",
       "<style scoped>\n",
       "    .dataframe tbody tr th:only-of-type {\n",
       "        vertical-align: middle;\n",
       "    }\n",
       "\n",
       "    .dataframe tbody tr th {\n",
       "        vertical-align: top;\n",
       "    }\n",
       "\n",
       "    .dataframe thead th {\n",
       "        text-align: right;\n",
       "    }\n",
       "</style>\n",
       "<table border=\"1\" class=\"dataframe\">\n",
       "  <thead>\n",
       "    <tr style=\"text-align: right;\">\n",
       "      <th></th>\n",
       "      <th>Model</th>\n",
       "      <th>AUC Score</th>\n",
       "      <th>Precision Score</th>\n",
       "      <th>Recall Score</th>\n",
       "      <th>Accuracy Score</th>\n",
       "      <th>Kappa Score</th>\n",
       "      <th>f1-score</th>\n",
       "    </tr>\n",
       "  </thead>\n",
       "  <tbody>\n",
       "    <tr>\n",
       "      <th>0</th>\n",
       "      <td>Logistic Regression</td>\n",
       "      <td>0.929747</td>\n",
       "      <td>0.671526</td>\n",
       "      <td>0.368533</td>\n",
       "      <td>0.907623</td>\n",
       "      <td>0.429919</td>\n",
       "      <td>0.475895</td>\n",
       "    </tr>\n",
       "  </tbody>\n",
       "</table>\n",
       "</div>"
      ],
      "text/plain": [
       "                 Model  AUC Score  Precision Score  Recall Score  \\\n",
       "0  Logistic Regression   0.929747         0.671526      0.368533   \n",
       "\n",
       "   Accuracy Score  Kappa Score  f1-score  \n",
       "0        0.907623     0.429919  0.475895  "
      ]
     },
     "execution_count": 119,
     "metadata": {},
     "output_type": "execute_result"
    }
   ],
   "source": [
    "# use the function 'update_score_card' to store the performance measures\n",
    "# pass the 'Logistic Regression' as model name to the function\n",
    "update_score_card(model_name = 'Logistic Regression')"
   ]
  },
  {
   "cell_type": "markdown",
   "id": "00e67c65",
   "metadata": {
    "ExecuteTime": {
     "end_time": "2021-11-13T15:55:55.540285Z",
     "start_time": "2021-11-13T15:55:55.537152Z"
    }
   },
   "source": [
    "## SVM"
   ]
  },
  {
   "cell_type": "code",
   "execution_count": 53,
   "id": "51c54d87",
   "metadata": {
    "ExecuteTime": {
     "end_time": "2021-11-13T18:49:31.295086Z",
     "start_time": "2021-11-13T18:49:07.914559Z"
    }
   },
   "outputs": [
    {
     "data": {
      "text/plain": [
       "SVC(kernel='linear')"
      ]
     },
     "execution_count": 53,
     "metadata": {},
     "output_type": "execute_result"
    }
   ],
   "source": [
    "# build the model\n",
    "svclassifier = SVC(kernel = 'linear')\n",
    "\n",
    "# fit the model\n",
    "svclassifier.fit(X_train, y_train)\n",
    "\n"
   ]
  },
  {
   "cell_type": "code",
   "execution_count": 54,
   "id": "7ee9e0c2",
   "metadata": {
    "ExecuteTime": {
     "end_time": "2021-11-13T18:49:37.663504Z",
     "start_time": "2021-11-13T18:49:34.501663Z"
    }
   },
   "outputs": [],
   "source": [
    "# predict the values\n",
    "y_pred = svclassifier.predict(X_test)"
   ]
  },
  {
   "cell_type": "code",
   "execution_count": 56,
   "id": "58752a22",
   "metadata": {
    "ExecuteTime": {
     "end_time": "2021-11-13T18:49:48.278072Z",
     "start_time": "2021-11-13T18:49:48.242415Z"
    }
   },
   "outputs": [
    {
     "name": "stdout",
     "output_type": "stream",
     "text": [
      "              precision    recall  f1-score   support\n",
      "\n",
      "           0       0.92      0.98      0.95     14601\n",
      "           1       0.65      0.31      0.42      1875\n",
      "\n",
      "    accuracy                           0.90     16476\n",
      "   macro avg       0.78      0.65      0.68     16476\n",
      "weighted avg       0.89      0.90      0.89     16476\n",
      "\n"
     ]
    }
   ],
   "source": [
    "SVM_1 = classification_report(y_test,y_pred)\n",
    "\n",
    "# print the result\n",
    "print(SVM_1)"
   ]
  },
  {
   "cell_type": "markdown",
   "id": "6fffbde7",
   "metadata": {},
   "source": [
    "## Adaboost"
   ]
  },
  {
   "cell_type": "code",
   "execution_count": 57,
   "id": "7a8c771c",
   "metadata": {
    "ExecuteTime": {
     "end_time": "2021-11-13T18:50:16.549781Z",
     "start_time": "2021-11-13T18:50:15.816325Z"
    }
   },
   "outputs": [
    {
     "data": {
      "text/plain": [
       "AdaBoostClassifier(random_state=10)"
      ]
     },
     "execution_count": 57,
     "metadata": {},
     "output_type": "execute_result"
    }
   ],
   "source": [
    "from sklearn.ensemble import AdaBoostClassifier\n",
    "\n",
    "# build the model\n",
    "adaboost = AdaBoostClassifier(random_state=10)\n",
    "# fit the model\n",
    "adaboost.fit(X_train, y_train)"
   ]
  },
  {
   "cell_type": "code",
   "execution_count": 58,
   "id": "e8360c50",
   "metadata": {
    "ExecuteTime": {
     "end_time": "2021-11-13T18:50:16.694016Z",
     "start_time": "2021-11-13T18:50:16.607538Z"
    }
   },
   "outputs": [],
   "source": [
    "# predict the values\n",
    "y_pred_adaboost  = adaboost.predict(X_test)"
   ]
  },
  {
   "cell_type": "code",
   "execution_count": 59,
   "id": "bad6ffee",
   "metadata": {
    "ExecuteTime": {
     "end_time": "2021-11-13T18:50:18.075129Z",
     "start_time": "2021-11-13T18:50:18.040410Z"
    }
   },
   "outputs": [
    {
     "name": "stdout",
     "output_type": "stream",
     "text": [
      "              precision    recall  f1-score   support\n",
      "\n",
      "           0       0.93      0.97      0.95     14601\n",
      "           1       0.67      0.41      0.51      1875\n",
      "\n",
      "    accuracy                           0.91     16476\n",
      "   macro avg       0.80      0.69      0.73     16476\n",
      "weighted avg       0.90      0.91      0.90     16476\n",
      "\n"
     ]
    }
   ],
   "source": [
    "# accuracy measures by classification_report()\n",
    "AdaBoost = classification_report(y_test, y_pred_adaboost)\n",
    "\n",
    "# print the result\n",
    "print(AdaBoost)"
   ]
  },
  {
   "cell_type": "markdown",
   "id": "e44c813e",
   "metadata": {},
   "source": [
    "## KNN"
   ]
  },
  {
   "cell_type": "code",
   "execution_count": 60,
   "id": "e61a8830",
   "metadata": {
    "ExecuteTime": {
     "end_time": "2021-11-13T18:50:26.678478Z",
     "start_time": "2021-11-13T18:50:26.675246Z"
    }
   },
   "outputs": [],
   "source": [
    "from sklearn.neighbors import KNeighborsClassifier"
   ]
  },
  {
   "cell_type": "code",
   "execution_count": 61,
   "id": "30407743",
   "metadata": {
    "ExecuteTime": {
     "end_time": "2021-11-13T18:50:27.424953Z",
     "start_time": "2021-11-13T18:50:27.412955Z"
    }
   },
   "outputs": [],
   "source": [
    "# instantiate the 'KNeighborsClassifier'\n",
    "# n_neighnors: number of neighbors to consider\n",
    "# default metric is minkowski, and with p=2 it is equivalent to the euclidean metric\n",
    "knn_classification = KNeighborsClassifier(n_neighbors = 3)\n",
    "\n",
    "# fit the model using fit() on train data\n",
    "knn_model = knn_classification.fit(X_train, y_train)"
   ]
  },
  {
   "cell_type": "code",
   "execution_count": 62,
   "id": "612a369d",
   "metadata": {
    "ExecuteTime": {
     "end_time": "2021-11-13T18:50:28.239778Z",
     "start_time": "2021-11-13T18:50:28.236150Z"
    }
   },
   "outputs": [],
   "source": [
    "def get_test_report(model):\n",
    "    \n",
    "    # for test set:\n",
    "    # test_pred: prediction made by the model on the test dataset 'X_test'\n",
    "    # y_test: actual values of the target variable for the test dataset\n",
    "\n",
    "    # predict the output of the target variable from the test data \n",
    "    test_pred = model.predict(X_test)\n",
    "\n",
    "    # return the classification report for test data\n",
    "    return(classification_report(y_test, test_pred))"
   ]
  },
  {
   "cell_type": "code",
   "execution_count": 63,
   "id": "5e7e67f9",
   "metadata": {
    "ExecuteTime": {
     "end_time": "2021-11-13T18:50:52.988229Z",
     "start_time": "2021-11-13T18:50:47.852096Z"
    }
   },
   "outputs": [
    {
     "name": "stdout",
     "output_type": "stream",
     "text": [
      "              precision    recall  f1-score   support\n",
      "\n",
      "           0       0.92      0.96      0.94     14601\n",
      "           1       0.55      0.34      0.42      1875\n",
      "\n",
      "    accuracy                           0.89     16476\n",
      "   macro avg       0.73      0.65      0.68     16476\n",
      "weighted avg       0.88      0.89      0.88     16476\n",
      "\n"
     ]
    }
   ],
   "source": [
    "# compute the performance measures on test data\n",
    "# call the function 'get_test_report'\n",
    "# pass the knn model to the function\n",
    "KNN = get_test_report(knn_model)\n",
    "\n",
    "# print the performace measures\n",
    "print(KNN)"
   ]
  },
  {
   "cell_type": "code",
   "execution_count": 64,
   "id": "601909e5",
   "metadata": {
    "ExecuteTime": {
     "end_time": "2021-11-13T18:50:53.415679Z",
     "start_time": "2021-11-13T18:50:53.366174Z"
    }
   },
   "outputs": [
    {
     "data": {
      "text/html": [
       "<div>\n",
       "<style scoped>\n",
       "    .dataframe tbody tr th:only-of-type {\n",
       "        vertical-align: middle;\n",
       "    }\n",
       "\n",
       "    .dataframe tbody tr th {\n",
       "        vertical-align: top;\n",
       "    }\n",
       "\n",
       "    .dataframe thead th {\n",
       "        text-align: right;\n",
       "    }\n",
       "</style>\n",
       "<table border=\"1\" class=\"dataframe\">\n",
       "  <thead>\n",
       "    <tr style=\"text-align: right;\">\n",
       "      <th></th>\n",
       "      <th>Model</th>\n",
       "      <th>AUC Score</th>\n",
       "      <th>Precision Score</th>\n",
       "      <th>Recall Score</th>\n",
       "      <th>Accuracy Score</th>\n",
       "      <th>Kappa Score</th>\n",
       "      <th>f1-score</th>\n",
       "    </tr>\n",
       "  </thead>\n",
       "  <tbody>\n",
       "    <tr>\n",
       "      <th>0</th>\n",
       "      <td>KNN</td>\n",
       "      <td>0.929747</td>\n",
       "      <td>0.650055</td>\n",
       "      <td>0.313067</td>\n",
       "      <td>0.902646</td>\n",
       "      <td>0.376476</td>\n",
       "      <td>0.422606</td>\n",
       "    </tr>\n",
       "  </tbody>\n",
       "</table>\n",
       "</div>"
      ],
      "text/plain": [
       "  Model  AUC Score  Precision Score  Recall Score  Accuracy Score  \\\n",
       "0   KNN   0.929747         0.650055      0.313067        0.902646   \n",
       "\n",
       "   Kappa Score  f1-score  \n",
       "0     0.376476  0.422606  "
      ]
     },
     "execution_count": 64,
     "metadata": {},
     "output_type": "execute_result"
    }
   ],
   "source": [
    "update_score_card(model_name = 'KNN')"
   ]
  },
  {
   "cell_type": "code",
   "execution_count": 135,
   "id": "beb31338",
   "metadata": {
    "ExecuteTime": {
     "end_time": "2021-11-13T16:01:30.465748Z",
     "start_time": "2021-11-13T16:01:30.416541Z"
    }
   },
   "outputs": [
    {
     "data": {
      "text/html": [
       "<div>\n",
       "<style scoped>\n",
       "    .dataframe tbody tr th:only-of-type {\n",
       "        vertical-align: middle;\n",
       "    }\n",
       "\n",
       "    .dataframe tbody tr th {\n",
       "        vertical-align: top;\n",
       "    }\n",
       "\n",
       "    .dataframe thead th {\n",
       "        text-align: right;\n",
       "    }\n",
       "</style>\n",
       "<table border=\"1\" class=\"dataframe\">\n",
       "  <thead>\n",
       "    <tr style=\"text-align: right;\">\n",
       "      <th></th>\n",
       "      <th>Model</th>\n",
       "      <th>AUC Score</th>\n",
       "      <th>Precision Score</th>\n",
       "      <th>Recall Score</th>\n",
       "      <th>Accuracy Score</th>\n",
       "      <th>Kappa Score</th>\n",
       "      <th>f1-score</th>\n",
       "    </tr>\n",
       "  </thead>\n",
       "  <tbody>\n",
       "    <tr>\n",
       "      <th>0</th>\n",
       "      <td>Logistic Regression</td>\n",
       "      <td>0.929747</td>\n",
       "      <td>0.671526</td>\n",
       "      <td>0.368533</td>\n",
       "      <td>0.907623</td>\n",
       "      <td>0.429919</td>\n",
       "      <td>0.475895</td>\n",
       "    </tr>\n",
       "    <tr>\n",
       "      <th>1</th>\n",
       "      <td>KNN</td>\n",
       "      <td>0.929747</td>\n",
       "      <td>0.650055</td>\n",
       "      <td>0.313067</td>\n",
       "      <td>0.902646</td>\n",
       "      <td>0.376476</td>\n",
       "      <td>0.422606</td>\n",
       "    </tr>\n",
       "    <tr>\n",
       "      <th>2</th>\n",
       "      <td>KNN</td>\n",
       "      <td>0.929747</td>\n",
       "      <td>0.650055</td>\n",
       "      <td>0.313067</td>\n",
       "      <td>0.902646</td>\n",
       "      <td>0.376476</td>\n",
       "      <td>0.422606</td>\n",
       "    </tr>\n",
       "    <tr>\n",
       "      <th>3</th>\n",
       "      <td>Adaboost</td>\n",
       "      <td>0.929747</td>\n",
       "      <td>0.650055</td>\n",
       "      <td>0.313067</td>\n",
       "      <td>0.902646</td>\n",
       "      <td>0.376476</td>\n",
       "      <td>0.422606</td>\n",
       "    </tr>\n",
       "  </tbody>\n",
       "</table>\n",
       "</div>"
      ],
      "text/plain": [
       "                 Model  AUC Score  Precision Score  Recall Score  \\\n",
       "0  Logistic Regression   0.929747         0.671526      0.368533   \n",
       "1                  KNN   0.929747         0.650055      0.313067   \n",
       "2                  KNN   0.929747         0.650055      0.313067   \n",
       "3             Adaboost   0.929747         0.650055      0.313067   \n",
       "\n",
       "   Accuracy Score  Kappa Score  f1-score  \n",
       "0        0.907623     0.429919  0.475895  \n",
       "1        0.902646     0.376476  0.422606  \n",
       "2        0.902646     0.376476  0.422606  \n",
       "3        0.902646     0.376476  0.422606  "
      ]
     },
     "execution_count": 135,
     "metadata": {},
     "output_type": "execute_result"
    }
   ],
   "source": [
    "update_score_card(model_name = 'Adaboost')"
   ]
  },
  {
   "cell_type": "code",
   "execution_count": 136,
   "id": "2e5b2cf6",
   "metadata": {
    "ExecuteTime": {
     "end_time": "2021-11-13T16:01:58.191956Z",
     "start_time": "2021-11-13T16:01:58.137796Z"
    }
   },
   "outputs": [
    {
     "data": {
      "text/html": [
       "<div>\n",
       "<style scoped>\n",
       "    .dataframe tbody tr th:only-of-type {\n",
       "        vertical-align: middle;\n",
       "    }\n",
       "\n",
       "    .dataframe tbody tr th {\n",
       "        vertical-align: top;\n",
       "    }\n",
       "\n",
       "    .dataframe thead th {\n",
       "        text-align: right;\n",
       "    }\n",
       "</style>\n",
       "<table border=\"1\" class=\"dataframe\">\n",
       "  <thead>\n",
       "    <tr style=\"text-align: right;\">\n",
       "      <th></th>\n",
       "      <th>Model</th>\n",
       "      <th>AUC Score</th>\n",
       "      <th>Precision Score</th>\n",
       "      <th>Recall Score</th>\n",
       "      <th>Accuracy Score</th>\n",
       "      <th>Kappa Score</th>\n",
       "      <th>f1-score</th>\n",
       "    </tr>\n",
       "  </thead>\n",
       "  <tbody>\n",
       "    <tr>\n",
       "      <th>0</th>\n",
       "      <td>Logistic Regression</td>\n",
       "      <td>0.929747</td>\n",
       "      <td>0.671526</td>\n",
       "      <td>0.368533</td>\n",
       "      <td>0.907623</td>\n",
       "      <td>0.429919</td>\n",
       "      <td>0.475895</td>\n",
       "    </tr>\n",
       "    <tr>\n",
       "      <th>1</th>\n",
       "      <td>KNN</td>\n",
       "      <td>0.929747</td>\n",
       "      <td>0.650055</td>\n",
       "      <td>0.313067</td>\n",
       "      <td>0.902646</td>\n",
       "      <td>0.376476</td>\n",
       "      <td>0.422606</td>\n",
       "    </tr>\n",
       "    <tr>\n",
       "      <th>2</th>\n",
       "      <td>KNN</td>\n",
       "      <td>0.929747</td>\n",
       "      <td>0.650055</td>\n",
       "      <td>0.313067</td>\n",
       "      <td>0.902646</td>\n",
       "      <td>0.376476</td>\n",
       "      <td>0.422606</td>\n",
       "    </tr>\n",
       "    <tr>\n",
       "      <th>3</th>\n",
       "      <td>Adaboost</td>\n",
       "      <td>0.929747</td>\n",
       "      <td>0.650055</td>\n",
       "      <td>0.313067</td>\n",
       "      <td>0.902646</td>\n",
       "      <td>0.376476</td>\n",
       "      <td>0.422606</td>\n",
       "    </tr>\n",
       "    <tr>\n",
       "      <th>4</th>\n",
       "      <td>SVM</td>\n",
       "      <td>0.929747</td>\n",
       "      <td>0.650055</td>\n",
       "      <td>0.313067</td>\n",
       "      <td>0.902646</td>\n",
       "      <td>0.376476</td>\n",
       "      <td>0.422606</td>\n",
       "    </tr>\n",
       "  </tbody>\n",
       "</table>\n",
       "</div>"
      ],
      "text/plain": [
       "                 Model  AUC Score  Precision Score  Recall Score  \\\n",
       "0  Logistic Regression   0.929747         0.671526      0.368533   \n",
       "1                  KNN   0.929747         0.650055      0.313067   \n",
       "2                  KNN   0.929747         0.650055      0.313067   \n",
       "3             Adaboost   0.929747         0.650055      0.313067   \n",
       "4                  SVM   0.929747         0.650055      0.313067   \n",
       "\n",
       "   Accuracy Score  Kappa Score  f1-score  \n",
       "0        0.907623     0.429919  0.475895  \n",
       "1        0.902646     0.376476  0.422606  \n",
       "2        0.902646     0.376476  0.422606  \n",
       "3        0.902646     0.376476  0.422606  \n",
       "4        0.902646     0.376476  0.422606  "
      ]
     },
     "execution_count": 136,
     "metadata": {},
     "output_type": "execute_result"
    }
   ],
   "source": [
    "update_score_card(model_name = 'SVM')"
   ]
  },
  {
   "cell_type": "markdown",
   "id": "44472adc",
   "metadata": {
    "ExecuteTime": {
     "end_time": "2021-11-13T16:22:00.390236Z",
     "start_time": "2021-11-13T16:22:00.382361Z"
    }
   },
   "source": [
    "#  Conclusion and Interpretation"
   ]
  },
  {
   "cell_type": "code",
   "execution_count": 144,
   "id": "694b24bd",
   "metadata": {
    "ExecuteTime": {
     "end_time": "2021-11-13T16:22:23.952667Z",
     "start_time": "2021-11-13T16:22:23.927439Z"
    }
   },
   "outputs": [
    {
     "data": {
      "text/html": [
       "<div>\n",
       "<style scoped>\n",
       "    .dataframe tbody tr th:only-of-type {\n",
       "        vertical-align: middle;\n",
       "    }\n",
       "\n",
       "    .dataframe tbody tr th {\n",
       "        vertical-align: top;\n",
       "    }\n",
       "\n",
       "    .dataframe thead th {\n",
       "        text-align: right;\n",
       "    }\n",
       "</style>\n",
       "<table border=\"1\" class=\"dataframe\">\n",
       "  <thead>\n",
       "    <tr style=\"text-align: right;\">\n",
       "      <th></th>\n",
       "      <th>Model</th>\n",
       "      <th>AUC Score</th>\n",
       "      <th>Precision Score</th>\n",
       "      <th>Recall Score</th>\n",
       "      <th>Accuracy Score</th>\n",
       "      <th>Kappa Score</th>\n",
       "      <th>f1-score</th>\n",
       "    </tr>\n",
       "  </thead>\n",
       "  <tbody>\n",
       "    <tr>\n",
       "      <th>0</th>\n",
       "      <td>Logistic Regression</td>\n",
       "      <td>0.929747</td>\n",
       "      <td>0.671526</td>\n",
       "      <td>0.368533</td>\n",
       "      <td>0.907623</td>\n",
       "      <td>0.429919</td>\n",
       "      <td>0.475895</td>\n",
       "    </tr>\n",
       "    <tr>\n",
       "      <th>1</th>\n",
       "      <td>KNN</td>\n",
       "      <td>0.929747</td>\n",
       "      <td>0.650055</td>\n",
       "      <td>0.313067</td>\n",
       "      <td>0.902646</td>\n",
       "      <td>0.376476</td>\n",
       "      <td>0.422606</td>\n",
       "    </tr>\n",
       "    <tr>\n",
       "      <th>2</th>\n",
       "      <td>KNN</td>\n",
       "      <td>0.929747</td>\n",
       "      <td>0.650055</td>\n",
       "      <td>0.313067</td>\n",
       "      <td>0.902646</td>\n",
       "      <td>0.376476</td>\n",
       "      <td>0.422606</td>\n",
       "    </tr>\n",
       "    <tr>\n",
       "      <th>3</th>\n",
       "      <td>Adaboost</td>\n",
       "      <td>0.929747</td>\n",
       "      <td>0.650055</td>\n",
       "      <td>0.313067</td>\n",
       "      <td>0.902646</td>\n",
       "      <td>0.376476</td>\n",
       "      <td>0.422606</td>\n",
       "    </tr>\n",
       "    <tr>\n",
       "      <th>4</th>\n",
       "      <td>SVM</td>\n",
       "      <td>0.929747</td>\n",
       "      <td>0.650055</td>\n",
       "      <td>0.313067</td>\n",
       "      <td>0.902646</td>\n",
       "      <td>0.376476</td>\n",
       "      <td>0.422606</td>\n",
       "    </tr>\n",
       "  </tbody>\n",
       "</table>\n",
       "</div>"
      ],
      "text/plain": [
       "                 Model  AUC Score  Precision Score  Recall Score  \\\n",
       "0  Logistic Regression   0.929747         0.671526      0.368533   \n",
       "1                  KNN   0.929747         0.650055      0.313067   \n",
       "2                  KNN   0.929747         0.650055      0.313067   \n",
       "3             Adaboost   0.929747         0.650055      0.313067   \n",
       "4                  SVM   0.929747         0.650055      0.313067   \n",
       "\n",
       "   Accuracy Score  Kappa Score  f1-score  \n",
       "0        0.907623     0.429919  0.475895  \n",
       "1        0.902646     0.376476  0.422606  \n",
       "2        0.902646     0.376476  0.422606  \n",
       "3        0.902646     0.376476  0.422606  \n",
       "4        0.902646     0.376476  0.422606  "
      ]
     },
     "execution_count": 144,
     "metadata": {},
     "output_type": "execute_result"
    }
   ],
   "source": [
    "# print the 'score_card' to compare all the models\n",
    "score_card"
   ]
  },
  {
   "cell_type": "markdown",
   "id": "6dfc7dfa",
   "metadata": {
    "ExecuteTime": {
     "end_time": "2021-11-13T16:10:33.805359Z",
     "start_time": "2021-11-13T16:10:33.794440Z"
    }
   },
   "source": [
    "** As we can see that Logistic Regression having a better Accuracy Score then all of the model. we will consider Logistic regression model.**\n",
    "\n"
   ]
  },
  {
   "cell_type": "code",
   "execution_count": null,
   "id": "01625a57",
   "metadata": {},
   "outputs": [],
   "source": []
  }
 ],
 "metadata": {
  "kernelspec": {
   "display_name": "Python 3 (ipykernel)",
   "language": "python",
   "name": "python3"
  },
  "language_info": {
   "codemirror_mode": {
    "name": "ipython",
    "version": 3
   },
   "file_extension": ".py",
   "mimetype": "text/x-python",
   "name": "python",
   "nbconvert_exporter": "python",
   "pygments_lexer": "ipython3",
   "version": "3.9.7"
  },
  "toc": {
   "base_numbering": 1,
   "nav_menu": {},
   "number_sections": true,
   "sideBar": true,
   "skip_h1_title": false,
   "title_cell": "Table of Contents",
   "title_sidebar": "Contents",
   "toc_cell": false,
   "toc_position": {},
   "toc_section_display": true,
   "toc_window_display": false
  }
 },
 "nbformat": 4,
 "nbformat_minor": 5
}
